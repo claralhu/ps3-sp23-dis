{
 "cells": [
  {
   "cell_type": "markdown",
   "metadata": {},
   "source": [
    "## Plots and Linear Relationships\n",
    "\n",
    "### PS3 Week 10 Discussion - Clara Hu"
   ]
  },
  {
   "cell_type": "markdown",
   "metadata": {},
   "source": [
    "_________\n",
    "### Review: Weighting\n",
    "\n",
    "Let's take a look at some data that was used in last week's lecture."
   ]
  },
  {
   "cell_type": "code",
   "execution_count": null,
   "metadata": {},
   "outputs": [],
   "source": [
    "# Run this cell to read in the data.\n",
    "data <- read.csv(\"data/ps3_cces2020_pre.csv\")\n",
    "head(data)"
   ]
  },
  {
   "cell_type": "markdown",
   "metadata": {},
   "source": [
    "To reiterate, these are what the variables mean:\n",
    "\n",
    "- `vvweight`: Survey weight\n",
    "- `college`: Whether the person went to college (`0` = no; `1` = yes)\n",
    "- `medicare_expand`: Whether the person favors expanding Medicare (medical program for people over 65)  (`0` = no; `1` = yes)\n",
    "- `repeal_aca`: Whether the person favors repealing the Affordable Care Act (\"Obamacare\") (`0` = no; `1` = yes)\n",
    "- `regulate_carbon`: Whether the person favors regulations on carbon emissions (`0` = no; `1` = yes)\n",
    "- `prefertrump`: Whether the person prefers Trump to win the 2020 Presidential election (`0` = no; `1` = yes)"
   ]
  },
  {
   "cell_type": "markdown",
   "metadata": {},
   "source": [
    "What is the level of support on repealing the ACA among the weighted sample?"
   ]
  },
  {
   "cell_type": "code",
   "execution_count": null,
   "metadata": {},
   "outputs": [],
   "source": [
    "### Weighted mean of support for repealing ACA:\n",
    "\n",
    "..."
   ]
  },
  {
   "cell_type": "markdown",
   "metadata": {},
   "source": [
    "#### Evaluate the following claim:\n",
    "\n",
    "\"Weighting eliminates biases.\""
   ]
  },
  {
   "cell_type": "markdown",
   "metadata": {},
   "source": [
    "*Your notes here.*"
   ]
  },
  {
   "cell_type": "markdown",
   "metadata": {},
   "source": [
    "________\n",
    "### Plots"
   ]
  },
  {
   "cell_type": "markdown",
   "metadata": {},
   "source": [
    "Now, we will look at another set of data on life expectancy and GDP per capita.\n"
   ]
  },
  {
   "cell_type": "code",
   "execution_count": null,
   "metadata": {},
   "outputs": [],
   "source": [
    "life_gdp <- read.csv(\"data/w10.csv\")\n",
    "head(life_gdp)"
   ]
  },
  {
   "cell_type": "markdown",
   "metadata": {},
   "source": [
    "Let's create a scatterplot of life expectancy against GDP per capita below."
   ]
  },
  {
   "cell_type": "code",
   "execution_count": null,
   "metadata": {},
   "outputs": [],
   "source": [
    "library(ggplot2)\n",
    "\n",
    "### Plot scatterplot of life expectancy vs GDP per capita\n",
    "..."
   ]
  },
  {
   "cell_type": "markdown",
   "metadata": {},
   "source": [
    "Now, let's add a line of best fit to our plot."
   ]
  },
  {
   "cell_type": "code",
   "execution_count": null,
   "metadata": {},
   "outputs": [],
   "source": [
    "... + ..."
   ]
  }
 ],
 "metadata": {
  "kernelspec": {
   "display_name": "R",
   "language": "R",
   "name": "ir"
  },
  "language_info": {
   "codemirror_mode": "r",
   "file_extension": ".r",
   "mimetype": "text/x-r-source",
   "name": "R",
   "pygments_lexer": "r",
   "version": "4.2.1"
  }
 },
 "nbformat": 4,
 "nbformat_minor": 4
}
