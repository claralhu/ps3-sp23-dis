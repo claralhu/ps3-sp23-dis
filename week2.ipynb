{
 "cells": [
  {
   "cell_type": "markdown",
   "metadata": {},
   "source": [
    "# Introduction to Coding in R\n",
    "## Political Science 3 Discussion Week 2 - Clara Hu\n",
    "\n",
    "Today, we'll focus on the basics of coding in R and familiarizing ourselves with the Jupyter notebook environment.\n",
    "\n",
    "As a note, much of this content is pulled from the [D-Lab](https://dlab.berkeley.edu/)'s R Bootcamp content  \n",
    "Credit: Adapted from notebook by Ian Castro"
   ]
  },
  {
   "cell_type": "markdown",
   "metadata": {},
   "source": [
    "## Jupyter notebooks\n",
    "This webpage is called a Jupyter notebook. A notebook is a place to write programs and view their results.\n",
    "\n",
    "### Text cells\n",
    "In a notebook, each rectangle containing text or code is called a *cell*.\n",
    "\n",
    "Text cells (like this one) can be edited by double-clicking on them. They're written in a simple format called [Markdown](http://daringfireball.net/projects/markdown/syntax) to add formatting and section headings.  You don't need to learn Markdown, but you might want to.\n",
    "\n",
    "After you edit a text cell, select the \"run cell\" button at the top that looks like ▶| to confirm any changes. You can also press Shift + Enter to run the cell."
   ]
  },
  {
   "cell_type": "markdown",
   "metadata": {},
   "source": [
    "Q1: Double click me, a text cell, and complete the sentence:\n",
    "\n",
    "My name is ... and my favorite color is ...\n",
    "\n",
    "Don't forget to run the cell to save your answer!"
   ]
  },
  {
   "cell_type": "markdown",
   "metadata": {},
   "source": [
    "### Coding Cells\n",
    "\n",
    "The majority of our analysis will be completed in *code cells*. They look like the one below. Cells can contain multiple lines, with multiple lines of code. When you run a cell, the lines of code are executed in the order in which they appear."
   ]
  },
  {
   "cell_type": "code",
   "execution_count": null,
   "metadata": {},
   "outputs": [],
   "source": [
    "# This is a comment. Run this cell! \n",
    "3 + 5"
   ]
  },
  {
   "cell_type": "markdown",
   "metadata": {},
   "source": [
    "Notice how when you run the cell, we can see the order in which the cells have been run -- the number in the brackets (`[1]:`) to the left of the cell tells us that this cell is the first coding cell you've run in this notebook.\n",
    "\n",
    "Sometimes, when you make a mistake, you'll see an error. We'll get more practice with these later (and you'll see them a lot as you learn how to code), but these are usually messages that tell you that something about your syntax (the way you wrote the code) is incorrect. When you get an error, you need to fix it and then re-run the cell to get a correct output."
   ]
  },
  {
   "cell_type": "code",
   "execution_count": null,
   "metadata": {},
   "outputs": [],
   "source": [
    "3 +"
   ]
  },
  {
   "cell_type": "markdown",
   "metadata": {},
   "source": [
    "### The Kernel\n",
    "\n",
    "The kernel is a program that executes the code inside your notebook and outputs the results. In the top right of your window, you can see a circle that indicates the status of your kernel. If the circle is empty (⚪), the kernel is idle and ready to execute code. If the circle is filled in (⚫), the kernel is busy running some code. \n",
    "\n",
    "You may run into problems where your kernel is stuck for an excessive amount of time, your notebook is very slow and unresponsive, or your kernel loses its connection. If this happens, try the following steps:\n",
    "1. At the top of your screen, select **Kernel**, then **Interrupt**.\n",
    "2. If that doesn't help, select **Kernel**, then **Restart**. If you do this, you will have to run your code cells from the start of your notebook up until where you paused your work.\n",
    "3. If that doesn't help, restart your server. First, save your work by selecting **File** at the top left of your screen, then **Save and Checkpoint**. Next, select **Control Panel** at the top right. Choose **Stop My Server** to shut it down, then **My Server** to start it back up. Then, navigate back to the notebook you were working on."
   ]
  },
  {
   "cell_type": "markdown",
   "metadata": {},
   "source": [
    "## Coding in R\n",
    "\n",
    "Now that we've gotten that out of the way, let's go learn how to code in R!\n"
    ]
  },
  {
   "cell_type": "markdown",
   "metadata": {},
   "source": [
    "## Quick Check\n",
    "\n",
    "Let's practice some R code. The temperature in Berkeley on 8/25 at 4 PM was 68 degrees Fahrenheit, and saved in the variable **`berkeley_f`**. Write some code so we can convert this temperature into Celsius. **Make sure you save the temperature as the variable `berkeley_c`.**\n",
    "\n",
    "The formula for converting fahrenheit to celsius is as follows:\n",
    "\n",
    "\"Take the temperature in Fahrenheit, subtract 32, and then multiply by five ninths to get the temperature in Celsius.\""
   ]
  },
  {
   "cell_type": "markdown",
   "metadata": {},
   "source": [
    "As a calculator, R works great. Notice that we can do most of the mathematical operations we expect, like addition, subtraction, multiplication, and division."
   ]
  },
  {
   "cell_type": "code",
   "execution_count": null,
   "metadata": {},
   "outputs": [],
   "source": [
    "2 + 2 # add\n",
    "6 - 3 # subtract\n",
    "2 * 3.14159 # multiply\n",
    "10 / 5 # divide\n",
    "\n",
    "# More advanced:\n",
    "3^4 # power\n",
    "23 %/% 2 # floor division\n",
    "23 %% 2 # remainder"
   ]
  },
  {
   "cell_type": "code",
   "execution_count": null,
   "metadata": {},
   "outputs": [],
   "source": [
    "# PEMDAS - Order of operations matter; we can use parentheses to change it\n",
    "..."
   ]
  },
  {
   "cell_type": "markdown",
   "metadata": {},
   "source": [
    "Sometimes, we want to do more than just these calculations. We can use something called a **function**, which introduces extra functionality to our code. In this case, we can calculate square roots and logarithms.\n",
    "\n",
    "The way this works is as follows - assuming we have some random function called `func`:\n",
    "\n",
    "`func(arguments)`\n",
    "\n",
    "If you're baking a cake, you can think of `arguments` as the ingredients; the function as the process of baking; and the output as the final result, the cake. Notice that, to use or \"call\" a function, we need to follow the name of the function with a set of parentheses `(...)`. "
   ]
  },
  {
   "cell_type": "code",
   "execution_count": null,
   "metadata": {},
   "outputs": [],
   "source": [
    "sqrt(16) # functions\n",
    "log(10) # natural log\n",
    "log(100, base = 10) # specify if we want a different base; \"base\" is an optional/additional argument"
   ]
  },
  {
   "cell_type": "markdown",
   "metadata": {},
   "source": [
    "Now, what if we want to do a complicated calculation, like:\n",
    "\n",
    "\"What is the square root of pi times four, plus 64, divided by 12?\"\n",
    "\n",
    "We can do that in one line, but you'll notice it's a bit hard to read."
   ]
  },
  {
   "cell_type": "code",
   "execution_count": null,
   "metadata": {},
   "outputs": [],
   "source": [
    "(sqrt(3.14159 * 4) + 64) / 12"
   ]
  },
  {
   "cell_type": "markdown",
   "metadata": {},
   "source": [
    "What we can do instead is something called **variable assignment**. In other words, we can give a calculation a name, and then reference the value of that calculation by using that name. This makes things easier for us because we can split our code into separate lines, which is easier to read and makes us less likely to make mistakes when doing calculations.\n",
    "\n",
    "We assign variables as follows:\n",
    "\n",
    "`variable <- <insert some calculation here>`\n",
    "\n",
    "This tells R: \"I want to assign the value of the calculation on the right side of the arrow to the name variable\". \n",
    "\n",
    "Let's see an example:"
   ]
  },
  {
   "cell_type": "code",
   "execution_count": null,
   "metadata": {},
   "outputs": [],
   "source": [
    "pi <- ...\n",
    "four_pi <- ...\n",
    "root_four_pi <- ...\n",
    "..."
   ]
  },
  {
   "cell_type": "code",
   "execution_count": null,
   "metadata": {},
   "outputs": [],
   "source": [
    "berkeley_f <- 68\n",
    "..."
   ]
  },
  {
   "cell_type": "markdown",
   "metadata": {},
   "source": [
    "## Tables and Datasets in R\n",
    "\n",
    "As political researchers, we will be working with data instead of using R as a glorified calculator. Let's quickly introduce how we can work with datasets in R."
   ]
  },
  {
   "cell_type": "code",
   "execution_count": null,
   "metadata": {},
   "outputs": [],
   "source": [
    "# This gives us the data that we need to work. Run this cell.  \n",
    "install.packages(\"gapminder\") \n",
    "library(gapminder)"
   ]
  },
  {
   "cell_type": "code",
   "execution_count": null,
   "metadata": {},
   "outputs": [],
   "source": [
    "# Run this cell too; the cell above imported the data we want to work with, in the name \"gapminder\"\n",
    "# This is primarily demographic data from around the world. \n",
    "head(gapminder) # The \"head\" function shows the first few rows only"
   ]
  },
  {
   "cell_type": "markdown",
   "metadata": {},
   "source": [
    "In general, a column represents a variable, which is some information about every single individual in the dataset. A row represents an individual entry, which contains that individual's data for every single variable.\n",
    "\n",
    "We can look at specific set of the data that satisfies a certain condition using the `subset` function using the format `subset(dataset, subset condition)`. Commonly used rational operators to indicate conditions include `==`, `>`, `<`, `>=`, `<=`."
   ]
  },
  {
   "cell_type": "code",
   "execution_count": null,
   "metadata": {},
   "outputs": [],
   "source": [
    "# Let's find the first few lines for the subset of the gapminder dataset where the lifeExp is less than 50.\n",
    "head(...)"
   ]
  },
  {
   "cell_type": "code",
   "execution_count": null,
   "metadata": {},
   "outputs": [],
   "source": [
    "# We can also subset using conditions to match character values \n",
    "#Let's find the first few lines for the subset of the dataset where the country is Canada\n",
    "head(...)"
   ]
  },
  {
   "cell_type": "markdown",
   "metadata": {},
   "source": [
    "If we want to pull a column out of the dataset, we can use dollar sign $ notation: `dataset$variable`"
   ]
  },
  {
   "cell_type": "code",
   "execution_count": null,
   "metadata": {},
   "outputs": [],
   "source": [
    "# Let's get all of the values from the gdpPercap column in the dataset.\n",
    "# Use the head function, because there are A LOT of values. \n",
    "head(...)"
   ]
  },
  {
   "cell_type": "markdown",
   "metadata": {},
   "source": [
    "There are some functions that work on collections of data, like the column we got above. One example is `mean`, which finds the average value of set of numbers you put in. \n",
    "\n",
    "Just like we learned earlier, all you need to do is take the function and call it (use parentheses) on the values you want to calculate a statistic for.\n",
    "\n",
    "In this case, let's calculate the average gdpPercap for ALL of the values in the gapminder dataset."
   ]
  },
  {
   "cell_type": "code",
   "execution_count": null,
   "metadata": {},
   "outputs": [],
   "source": [
    "..."
   ]
  },
  {
   "cell_type": "markdown",
   "metadata": {},
   "source": [
    "Other examples of useful functions include `sd` (standard deviation), `median` (the middle number), `max`, `min`, and `range`. In R, the `range` function returns a vector with the highest and lowest values. To find the mathematical range, you will need to subtract your output from the `min` function from the output from the `max` function.\n",
    "\n",
    "Practice using these functions with variables from the dataset and interpret the outputs!"
   ]
  },
  {
   "cell_type": "code",
   "execution_count": null,
   "metadata": {},
   "outputs": [],
   "source": [
    "..."
   ]
  },
  {
   "cell_type": "markdown",
   "metadata": {},
   "source": [
    "And that's it for now! We'll get a lot more practice on all of this in the weeks ahead."
   ]
  },
  {
   "cell_type": "code",
   "execution_count": null,
   "metadata": {},
   "outputs": [],
   "source": []
  }
 ],
 "metadata": {
  "kernelspec": {
   "display_name": "R",
   "language": "R",
   "name": "ir"
  },
  "language_info": {
   "codemirror_mode": "r",
   "file_extension": ".r",
   "mimetype": "text/x-r-source",
   "name": "R",
   "pygments_lexer": "r",
   "version": "4.2.1"
  }
 },
 "nbformat": 4,
 "nbformat_minor": 4
}
