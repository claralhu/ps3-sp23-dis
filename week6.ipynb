{
 "cells": [
  {
   "cell_type": "markdown",
   "metadata": {},
   "source": [
    "# Uncertainty and Statistical Significance\n",
    "\n",
    "### PS 3 Week 6 Discussion - Clara Hu\n",
    "\n"
   ]
  },
  {
   "cell_type": "markdown",
   "metadata": {},
   "source": [
    "-------\n",
    "\n",
    "Today, we'll look at the data on final scores in a large undergraduate class where students were randomly assigned to attend tutoring. The midterm scores for all of the students in the course were recorded and participation in tutoring was noted. \n",
    "\n",
    "-------\n",
    "\n",
    "**Data Dictionary/Codebook**\n",
    "\n",
    "`Mentored`: `TRUE` = student participated in tutoring, `FALSE` = student did not participate in tutoring\n",
    "\n",
    "`Final`: student score on final\n",
    "\n",
    "--------\n"
   ]
  },
  {
   "cell_type": "code",
   "execution_count": 3,
   "metadata": {},
   "outputs": [
    {
     "data": {
      "text/html": [
       "<table class=\"dataframe\">\n",
       "<caption>A data.frame: 6 × 2</caption>\n",
       "<thead>\n",
       "\t<tr><th></th><th scope=col>Mentored</th><th scope=col>Final</th></tr>\n",
       "\t<tr><th></th><th scope=col>&lt;lgl&gt;</th><th scope=col>&lt;dbl&gt;</th></tr>\n",
       "</thead>\n",
       "<tbody>\n",
       "\t<tr><th scope=row>1</th><td>FALSE</td><td>82</td></tr>\n",
       "\t<tr><th scope=row>2</th><td>FALSE</td><td>82</td></tr>\n",
       "\t<tr><th scope=row>3</th><td>FALSE</td><td>82</td></tr>\n",
       "\t<tr><th scope=row>4</th><td>FALSE</td><td>82</td></tr>\n",
       "\t<tr><th scope=row>5</th><td>FALSE</td><td>82</td></tr>\n",
       "\t<tr><th scope=row>6</th><td> TRUE</td><td>82</td></tr>\n",
       "</tbody>\n",
       "</table>\n"
      ],
      "text/latex": [
       "A data.frame: 6 × 2\n",
       "\\begin{tabular}{r|ll}\n",
       "  & Mentored & Final\\\\\n",
       "  & <lgl> & <dbl>\\\\\n",
       "\\hline\n",
       "\t1 & FALSE & 82\\\\\n",
       "\t2 & FALSE & 82\\\\\n",
       "\t3 & FALSE & 82\\\\\n",
       "\t4 & FALSE & 82\\\\\n",
       "\t5 & FALSE & 82\\\\\n",
       "\t6 &  TRUE & 82\\\\\n",
       "\\end{tabular}\n"
      ],
      "text/markdown": [
       "\n",
       "A data.frame: 6 × 2\n",
       "\n",
       "| <!--/--> | Mentored &lt;lgl&gt; | Final &lt;dbl&gt; |\n",
       "|---|---|---|\n",
       "| 1 | FALSE | 82 |\n",
       "| 2 | FALSE | 82 |\n",
       "| 3 | FALSE | 82 |\n",
       "| 4 | FALSE | 82 |\n",
       "| 5 | FALSE | 82 |\n",
       "| 6 |  TRUE | 82 |\n",
       "\n"
      ],
      "text/plain": [
       "  Mentored Final\n",
       "1 FALSE    82   \n",
       "2 FALSE    82   \n",
       "3 FALSE    82   \n",
       "4 FALSE    82   \n",
       "5 FALSE    82   \n",
       "6  TRUE    82   "
      ]
     },
     "metadata": {},
     "output_type": "display_data"
    }
   ],
   "source": [
    "# Run this cell. \n",
    "library(estimatr)\n",
    "set.seed(50)\n",
    "scores <- read.csv(\"data/final_scores.csv\")\n",
    "head(scores)"
   ]
  },
  {
   "cell_type": "markdown",
   "metadata": {},
   "source": [
    "## Uncertainty\n",
    "\n",
    "How did students do on the Final? Since we have all of the data, I can just take the average of that column (we have all of the information, and this number is set). "
   ]
  },
  {
   "cell_type": "code",
   "execution_count": 4,
   "metadata": {},
   "outputs": [
    {
     "data": {
      "text/html": [
       "62.4384057971015"
      ],
      "text/latex": [
       "62.4384057971015"
      ],
      "text/markdown": [
       "62.4384057971015"
      ],
      "text/plain": [
       "[1] 62.43841"
      ]
     },
     "metadata": {},
     "output_type": "display_data"
    }
   ],
   "source": [
    "mean(scores$Final) # The average score was 62%"
   ]
  },
  {
   "cell_type": "code",
   "execution_count": 5,
   "metadata": {},
   "outputs": [
    {
     "data": {
      "text/html": [
       "25.7127546305255"
      ],
      "text/latex": [
       "25.7127546305255"
      ],
      "text/markdown": [
       "25.7127546305255"
      ],
      "text/plain": [
       "[1] 25.71275"
      ]
     },
     "metadata": {},
     "output_type": "display_data"
    }
   ],
   "source": [
    "sd(scores$Final) # Std Dev of scores was 25%"
   ]
  },
  {
   "cell_type": "markdown",
   "metadata": {},
   "source": [
    "Now, imagine that I am only able to get data for 30 students. I randomly sampled 30 students and asked them for the difference in their midterm scores. (We are treating the entire dataset/class as the population, and the 30 students as the sample. "
   ]
  },
  {
   "cell_type": "code",
   "execution_count": 6,
   "metadata": {},
   "outputs": [
    {
     "data": {
      "image/png": "[encoded data removed]",
      "text/plain": [
       "Plot with title “Histogram of our_sample$Final”"
      ]
     },
     "metadata": {
      "image/png": {
       "height": 420,
       "width": 420
      }
     },
     "output_type": "display_data"
    }
   ],
   "source": [
    "our_sample <- scores[sample(1:nrow(scores), 30, replace = FALSE),] # sample 30 students without replacement\n",
    "hist(our_sample$Final, col = \"gray\")"
   ]
  },
  {
   "cell_type": "code",
   "execution_count": 7,
   "metadata": {},
   "outputs": [
    {
     "data": {
      "text/html": [
       "24.707373602729"
      ],
      "text/latex": [
       "24.707373602729"
      ],
      "text/markdown": [
       "24.707373602729"
      ],
      "text/plain": [
       "[1] 24.70737"
      ]
     },
     "metadata": {},
     "output_type": "display_data"
    },
    {
     "data": {
      "text/html": [
       "55.45"
      ],
      "text/latex": [
       "55.45"
      ],
      "text/markdown": [
       "55.45"
      ],
      "text/plain": [
       "[1] 55.45"
      ]
     },
     "metadata": {},
     "output_type": "display_data"
    }
   ],
   "source": [
    "# What's the standard deviation of the Difference for our 30 students?\n",
    "sd(our_sample$Final)\n",
    "# and the mean of 30 students:\n",
    "mean(our_sample$Final)"
   ]
  },
  {
   "cell_type": "markdown",
   "metadata": {},
   "source": [
    "Compare this to the mean of all of the students in the dataset! \n",
    "\n",
    "If we did this 1000 times, what are all of the potential outcomes? Let's take a look at the first 10:"
   ]
  },
  {
   "cell_type": "code",
   "execution_count": 8,
   "metadata": {},
   "outputs": [
    {
     "data": {
      "text/html": [
       "<style>\n",
       ".list-inline {list-style: none; margin:0; padding: 0}\n",
       ".list-inline>li {display: inline-block}\n",
       ".list-inline>li:not(:last-child)::after {content: \"\\00b7\"; padding: 0 .5ex}\n",
       "</style>\n",
       "<ol class=list-inline><li>57.9333333333333</li><li>67.1666666666667</li><li>61.9166666666667</li><li>59.5333333333333</li><li>57.3333333333333</li><li>62.95</li><li>64.9166666666667</li><li>60.9666666666667</li><li>63.8333333333333</li><li>58.7666666666667</li></ol>\n"
      ],
      "text/latex": [
       "\\begin{enumerate*}\n",
       "\\item 57.9333333333333\n",
       "\\item 67.1666666666667\n",
       "\\item 61.9166666666667\n",
       "\\item 59.5333333333333\n",
       "\\item 57.3333333333333\n",
       "\\item 62.95\n",
       "\\item 64.9166666666667\n",
       "\\item 60.9666666666667\n",
       "\\item 63.8333333333333\n",
       "\\item 58.7666666666667\n",
       "\\end{enumerate*}\n"
      ],
      "text/markdown": [
       "1. 57.9333333333333\n",
       "2. 67.1666666666667\n",
       "3. 61.9166666666667\n",
       "4. 59.5333333333333\n",
       "5. 57.3333333333333\n",
       "6. 62.95\n",
       "7. 64.9166666666667\n",
       "8. 60.9666666666667\n",
       "9. 63.8333333333333\n",
       "10. 58.7666666666667\n",
       "\n",
       "\n"
      ],
      "text/plain": [
       " [1] 57.93333 67.16667 61.91667 59.53333 57.33333 62.95000 64.91667 60.96667\n",
       " [9] 63.83333 58.76667"
      ]
     },
     "metadata": {},
     "output_type": "display_data"
    }
   ],
   "source": [
    "#Run this cell, you do not need to understand the code here\n",
    "samples <- list()\n",
    "sample_means <- array()\n",
    "\n",
    "for(i in c(1:1000)){\n",
    "    samples[i] <- list(scores[sample(1:nrow(scores), 30, replace = FALSE),]) # sample 30 students without replacement\n",
    "    sample_means[i] <- mean(samples[[i]]$Final) # calculate their average score\n",
    "}\n",
    "\n",
    "head(sample_means, 10)"
   ]
  },
  {
   "cell_type": "code",
   "execution_count": 9,
   "metadata": {},
   "outputs": [
    {
     "data": {
      "text/html": [
       "48.5666666666667"
      ],
      "text/latex": [
       "48.5666666666667"
      ],
      "text/markdown": [
       "48.5666666666667"
      ],
      "text/plain": [
       "[1] 48.56667"
      ]
     },
     "metadata": {},
     "output_type": "display_data"
    },
    {
     "data": {
      "text/html": [
       "79"
      ],
      "text/latex": [
       "79"
      ],
      "text/markdown": [
       "79"
      ],
      "text/plain": [
       "[1] 79"
      ]
     },
     "metadata": {},
     "output_type": "display_data"
    }
   ],
   "source": [
    "# Here's the range of outcomes we got with 1000 different samples:\n",
    "min(sample_means)\n",
    "max(sample_means)"
   ]
  },
  {
   "cell_type": "markdown",
   "metadata": {},
   "source": [
    "**Uncertainty** is measured by the amount of error/noise in an estimate of the mean or average value."
   ]
  },
  {
   "cell_type": "code",
   "execution_count": 10,
   "metadata": {},
   "outputs": [
    {
     "data": {
      "image/png": "[encoded data removed]",
      "text/plain": [
       "Plot with title “Histogram of sample_means”"
      ]
     },
     "metadata": {
      "image/png": {
       "height": 420,
       "width": 420
      }
     },
     "output_type": "display_data"
    }
   ],
   "source": [
    "# In a graphical format\n",
    "hist(sample_means)\n",
    "abline(v = mean(scores$Final), col = \"red\", lwd = 3)"
   ]
  },
  {
   "cell_type": "markdown",
   "metadata": {},
   "source": [
    "## Standard Error\n",
    "\n",
    "What is the standard error of the samples above? Let's find the standard error using the first sample of Midterm 2 scores we took (`our_sample$MT2`).\n",
    "\n",
    "Recall: `standard error  = standard deviation of the population / square root of the sample size`.  \n",
    "\n",
    "$$SE = \\frac{\\sigma}{\\sqrt{n}}$$"
   ]
  },
  {
   "cell_type": "code",
   "execution_count": 16,
   "metadata": {},
   "outputs": [
    {
     "data": {
      "text/html": [
       "4.69448524224474"
      ],
      "text/latex": [
       "4.69448524224474"
      ],
      "text/markdown": [
       "4.69448524224474"
      ],
      "text/plain": [
       "[1] 4.694485"
      ]
     },
     "metadata": {},
     "output_type": "display_data"
    }
   ],
   "source": [
    "std_error = ... #mathematically calculate\n",
    "std_error"
   ]
  },
  {
   "cell_type": "markdown",
   "metadata": {},
   "source": [
    "What does the value we got for the standard error tell us?\n",
    "\n",
    "Let's compare our calculated standard error to the standard deviation of all of our sample means.   "
   ]
  },
  {
   "cell_type": "code",
   "execution_count": 11,
   "metadata": {},
   "outputs": [
    {
     "data": {
      "text/html": [
       "4.83847802750805"
      ],
      "text/latex": [
       "4.83847802750805"
      ],
      "text/markdown": [
       "4.83847802750805"
      ],
      "text/plain": [
       "[1] 4.838478"
      ]
     },
     "metadata": {},
     "output_type": "display_data"
    }
   ],
   "source": [
    "# Standard error = standard deviation of the sample statistic\n",
    "sd(sample_means)"
   ]
  },
  {
   "cell_type": "markdown",
   "metadata": {},
   "source": [
    "Notice the similarity between the two values.\n",
    "\n",
    "## Statistical Significance\n",
    "\n",
    "Back to our original question: Did receiving tutoring affect student performance on the Final? \n",
    "\n",
    "**Null Hypothesis:** Tutoring had no effect on Final Scores- scores for students who did not receive tutoring were the same as scores for students who did receive tutoring.  \n",
    "**Alternative Hypothesis:** Tutoring did have an effect on Final Scores- scores for students who did not receive tutoring were different from scores for students who did receive tutoring.\n",
    "\n",
    "### t- statistic\n",
    "\n",
    "The t-statistic describes how likely an estimate of the size we saw would arise by chance even if there is no treatment effect.\n",
    "\n",
    "Let's compare the average Final score for the students that were tutored in our sample of 30 students to the sample distribution of means if there were no treatment effect (not tutored)."
   ]
  },
  {
   "cell_type": "code",
   "execution_count": 12,
   "metadata": {},
   "outputs": [
    {
     "data": {
      "text/html": [
       "65.25"
      ],
      "text/latex": [
       "65.25"
      ],
      "text/markdown": [
       "65.25"
      ],
      "text/plain": [
       "[1] 65.25"
      ]
     },
     "metadata": {},
     "output_type": "display_data"
    }
   ],
   "source": [
    "#Finding the average Midterm 2 performance for the students that were tutored in our sample\n",
    "mean_sample_tutored = mean(our_sample[our_sample$Mentored,]$Final)\n",
    "mean_sample_tutored #our estimate from the sample"
   ]
  },
  {
   "cell_type": "code",
   "execution_count": 29,
   "metadata": {},
   "outputs": [],
   "source": [
    "#Finding means Final score for students not tutored in samples\n",
    "#Run this cell, you do not need to understand the code here\n",
    "\n",
    "no_effect_means <- array() \n",
    "no_effect_scores <- numeric(0)\n",
    "for(i in c(1:1000)){\n",
    "    no_effect_means[i] <- mean(samples[[i]][!samples[[i]]$Mentored,]$Final)\n",
    "    no_effect_scores = c(no_effect_scores, samples[[i]][!samples[[i]]$Mentored,]$Final)\n",
    "#     samples[i] <- list(scores[sample(1:nrow(scores), 30, replace = FALSE),]) # sample 30 students without replacement\n",
    "#     sample_means[i] <- mean(samples[[i]]$Difference) # calculate their average score\n",
    "}"
   ]
  },
  {
   "cell_type": "code",
   "execution_count": 30,
   "metadata": {},
   "outputs": [
    {
     "data": {
      "image/png": "[encoded data removed]",
      "text/plain": [
       "Plot with title “Histogram of no_effect_means”"
      ]
     },
     "metadata": {
      "image/png": {
       "height": 420,
       "width": 420
      }
     },
     "output_type": "display_data"
    }
   ],
   "source": [
    "#Visualize our results\n",
    "hist(no_effect_means, col = \"gray\")\n",
    "abline(v = mean_sample_tutored, col = \"red\", lwd = 3)"
   ]
  },
  {
   "cell_type": "markdown",
   "metadata": {},
   "source": [
    "**What does the histogram above tell us about the hypotheses?** \n",
    "\n",
    "Let's confirm by finding the t-statistic.\n",
    "\n",
    "$$ t = \\frac{estimate}{SE} $$"
   ]
  },
  {
   "cell_type": "code",
   "execution_count": 18,
   "metadata": {},
   "outputs": [
    {
     "data": {
      "text/html": [
       "13.8992874901018"
      ],
      "text/latex": [
       "13.8992874901018"
      ],
      "text/markdown": [
       "13.8992874901018"
      ],
      "text/plain": [
       "[1] 13.89929"
      ]
     },
     "metadata": {},
     "output_type": "display_data"
    }
   ],
   "source": [
    "t_statistic = ...\n",
    "t_statistic"
   ]
  },
  {
   "cell_type": "markdown",
   "metadata": {},
   "source": [
    "What does our t-statistic mean?"
   ]
  },
  {
   "cell_type": "markdown",
   "metadata": {},
   "source": [
    "### Using the difference_in_means() function\n",
    "\n",
    "Today's exercise so far was simply to show the statistical intuition behind statistical processes! In practice, we'll use the `difference_in_means()` function to calculate the effect, t-score, standard error, and p-value. "
   ]
  },
  {
   "cell_type": "code",
   "execution_count": 23,
   "metadata": {},
   "outputs": [
    {
     "data": {
      "text/plain": [
       "Design:  Standard \n",
       "         Estimate Std. Error  t value     Pr(>|t|) CI Lower CI Upper       DF\n",
       "Mentored 18.70845   1.180301 15.85057 1.684749e-52 16.39327 21.02363 1526.994"
      ]
     },
     "metadata": {},
     "output_type": "display_data"
    }
   ],
   "source": [
    "difference_in_means(Final ~ Mentored, scores, condition1 = FALSE, condition2 = TRUE)"
   ]
  },
  {
   "cell_type": "markdown",
   "metadata": {},
   "source": [
    "**Let's interpret the results.** \n",
    "\n",
    "What is the treatment effect? Standard Error? t-statistic? p-value?\n",
    "\n",
    "What do the t-statistic and p-value tell us about the treatment effect? Why? \n",
    "\n",
    "*Take notes here*"
   ]
  },
  {
   "cell_type": "code",
   "execution_count": null,
   "metadata": {},
   "outputs": [],
   "source": []
  }
 ],
 "metadata": {
  "kernelspec": {
   "display_name": "R",
   "language": "R",
   "name": "ir"
  },
  "language_info": {
   "codemirror_mode": "r",
   "file_extension": ".r",
   "mimetype": "text/x-r-source",
   "name": "R",
   "pygments_lexer": "r",
   "version": "4.2.1"
  }
 },
 "nbformat": 4,
 "nbformat_minor": 4
}
