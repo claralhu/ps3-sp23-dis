{
 "cells": [
  {
   "cell_type": "markdown",
   "metadata": {},
   "source": [
    "## Confidence Intervals\n",
    "\n",
    "### PS3 Week 9 Discussion - Clara Hu\n",
    "\n",
    "This week, we will look at data on student guesses of cat speed. \n",
    "\n",
    "In this case, students guessed the maximum speed of a house cat in miles per hour. In one condition, the \"high\" condition, students were prompted with the message \n",
    "\n",
    "> \"Is the maximum speed of an average house cat FASTER or SLOWER than **40** miles per hour?\"\n",
    "\n",
    "In the other condition, the \"low\" condition, students were prompted with\n",
    "\n",
    "> \"Is the maximum speed of an average house cat FASTER or SLOWER than **3** miles per hour?\"\n",
    "\n",
    "The student then had to provide an estimate for the speed of a house cat. We want to learn: did the anchoring have an effect on students' estimates? Let's assume that students were randomly assigned to each group.\n",
    "\n",
    "-------\n",
    "\n",
    "**Data Dictionary/Codebook**\n",
    "\n",
    "`cat`: estimated speed in mph\n",
    "\n",
    "`before`: 1 = student knew the exercise beforehand, 0 = student did not know\n",
    "\n",
    "`live.cats`: 1 = student lives with cats, 0 = student does not live with cats\n",
    "\n",
    "`cond`: 1 = student was exposed to the \"high\" condition (40 mph), 0 = student was exposed to the \"low\" condition (3 mph)"
   ]
  },
  {
   "cell_type": "markdown",
   "metadata": {},
   "source": [
    "### Bias and Randomization\n",
    "\n",
    "Why did we randomly assign students to each group in this experiment?\n",
    "\n",
    "What may have been potential sources of bias if we had not randomized?"
   ]
  },
  {
   "cell_type": "markdown",
   "metadata": {},
   "source": [
    "*Type your notes here*"
   ]
  },
  {
   "cell_type": "code",
   "execution_count": 2,
   "metadata": {},
   "outputs": [
    {
     "data": {
      "text/html": [
       "<table class=\"dataframe\">\n",
       "<caption>A data.frame: 6 × 4</caption>\n",
       "<thead>\n",
       "\t<tr><th></th><th scope=col>cat</th><th scope=col>before</th><th scope=col>live.cats</th><th scope=col>cond</th></tr>\n",
       "\t<tr><th></th><th scope=col>&lt;int&gt;</th><th scope=col>&lt;int&gt;</th><th scope=col>&lt;int&gt;</th><th scope=col>&lt;int&gt;</th></tr>\n",
       "</thead>\n",
       "<tbody>\n",
       "\t<tr><th scope=row>1</th><td> 2</td><td>0</td><td>0</td><td>0</td></tr>\n",
       "\t<tr><th scope=row>2</th><td> 1</td><td>0</td><td>0</td><td>1</td></tr>\n",
       "\t<tr><th scope=row>3</th><td>30</td><td>0</td><td>0</td><td>1</td></tr>\n",
       "\t<tr><th scope=row>4</th><td>25</td><td>0</td><td>0</td><td>1</td></tr>\n",
       "\t<tr><th scope=row>5</th><td>17</td><td>0</td><td>0</td><td>0</td></tr>\n",
       "\t<tr><th scope=row>6</th><td>50</td><td>0</td><td>0</td><td>1</td></tr>\n",
       "</tbody>\n",
       "</table>\n"
      ],
      "text/latex": [
       "A data.frame: 6 × 4\n",
       "\\begin{tabular}{r|llll}\n",
       "  & cat & before & live.cats & cond\\\\\n",
       "  & <int> & <int> & <int> & <int>\\\\\n",
       "\\hline\n",
       "\t1 &  2 & 0 & 0 & 0\\\\\n",
       "\t2 &  1 & 0 & 0 & 1\\\\\n",
       "\t3 & 30 & 0 & 0 & 1\\\\\n",
       "\t4 & 25 & 0 & 0 & 1\\\\\n",
       "\t5 & 17 & 0 & 0 & 0\\\\\n",
       "\t6 & 50 & 0 & 0 & 1\\\\\n",
       "\\end{tabular}\n"
      ],
      "text/markdown": [
       "\n",
       "A data.frame: 6 × 4\n",
       "\n",
       "| <!--/--> | cat &lt;int&gt; | before &lt;int&gt; | live.cats &lt;int&gt; | cond &lt;int&gt; |\n",
       "|---|---|---|---|---|\n",
       "| 1 |  2 | 0 | 0 | 0 |\n",
       "| 2 |  1 | 0 | 0 | 1 |\n",
       "| 3 | 30 | 0 | 0 | 1 |\n",
       "| 4 | 25 | 0 | 0 | 1 |\n",
       "| 5 | 17 | 0 | 0 | 0 |\n",
       "| 6 | 50 | 0 | 0 | 1 |\n",
       "\n"
      ],
      "text/plain": [
       "  cat before live.cats cond\n",
       "1  2  0      0         0   \n",
       "2  1  0      0         1   \n",
       "3 30  0      0         1   \n",
       "4 25  0      0         1   \n",
       "5 17  0      0         0   \n",
       "6 50  0      0         1   "
      ]
     },
     "metadata": {},
     "output_type": "display_data"
    }
   ],
   "source": [
    "# Run this cell to read in the data.\n",
    "anchor <- read.csv(\"data/anchoring_data_FA20.csv\")\n",
    "head(anchor)"
   ]
  },
  {
   "cell_type": "markdown",
   "metadata": {},
   "source": [
    "In the cell below, we create some 'precision' variable in our data. For the sake of argument, take that as the weight of the observations."
   ]
  },
  {
   "cell_type": "code",
   "execution_count": 3,
   "metadata": {},
   "outputs": [
    {
     "data": {
      "text/html": [
       "<table class=\"dataframe\">\n",
       "<caption>A data.frame: 6 × 5</caption>\n",
       "<thead>\n",
       "\t<tr><th></th><th scope=col>cat</th><th scope=col>before</th><th scope=col>live.cats</th><th scope=col>cond</th><th scope=col>precision</th></tr>\n",
       "\t<tr><th></th><th scope=col>&lt;int&gt;</th><th scope=col>&lt;int&gt;</th><th scope=col>&lt;int&gt;</th><th scope=col>&lt;int&gt;</th><th scope=col>&lt;dbl&gt;</th></tr>\n",
       "</thead>\n",
       "<tbody>\n",
       "\t<tr><th scope=row>1</th><td> 2</td><td>0</td><td>0</td><td>0</td><td>0.5874528</td></tr>\n",
       "\t<tr><th scope=row>2</th><td> 1</td><td>0</td><td>0</td><td>1</td><td>0.5276453</td></tr>\n",
       "\t<tr><th scope=row>3</th><td>30</td><td>0</td><td>0</td><td>1</td><td>0.8732904</td></tr>\n",
       "\t<tr><th scope=row>4</th><td>25</td><td>0</td><td>0</td><td>1</td><td>0.5362524</td></tr>\n",
       "\t<tr><th scope=row>5</th><td>17</td><td>0</td><td>0</td><td>0</td><td>0.3954365</td></tr>\n",
       "\t<tr><th scope=row>6</th><td>50</td><td>0</td><td>0</td><td>1</td><td>0.5765431</td></tr>\n",
       "</tbody>\n",
       "</table>\n"
      ],
      "text/latex": [
       "A data.frame: 6 × 5\n",
       "\\begin{tabular}{r|lllll}\n",
       "  & cat & before & live.cats & cond & precision\\\\\n",
       "  & <int> & <int> & <int> & <int> & <dbl>\\\\\n",
       "\\hline\n",
       "\t1 &  2 & 0 & 0 & 0 & 0.5874528\\\\\n",
       "\t2 &  1 & 0 & 0 & 1 & 0.5276453\\\\\n",
       "\t3 & 30 & 0 & 0 & 1 & 0.8732904\\\\\n",
       "\t4 & 25 & 0 & 0 & 1 & 0.5362524\\\\\n",
       "\t5 & 17 & 0 & 0 & 0 & 0.3954365\\\\\n",
       "\t6 & 50 & 0 & 0 & 1 & 0.5765431\\\\\n",
       "\\end{tabular}\n"
      ],
      "text/markdown": [
       "\n",
       "A data.frame: 6 × 5\n",
       "\n",
       "| <!--/--> | cat &lt;int&gt; | before &lt;int&gt; | live.cats &lt;int&gt; | cond &lt;int&gt; | precision &lt;dbl&gt; |\n",
       "|---|---|---|---|---|---|\n",
       "| 1 |  2 | 0 | 0 | 0 | 0.5874528 |\n",
       "| 2 |  1 | 0 | 0 | 1 | 0.5276453 |\n",
       "| 3 | 30 | 0 | 0 | 1 | 0.8732904 |\n",
       "| 4 | 25 | 0 | 0 | 1 | 0.5362524 |\n",
       "| 5 | 17 | 0 | 0 | 0 | 0.3954365 |\n",
       "| 6 | 50 | 0 | 0 | 1 | 0.5765431 |\n",
       "\n"
      ],
      "text/plain": [
       "  cat before live.cats cond precision\n",
       "1  2  0      0         0    0.5874528\n",
       "2  1  0      0         1    0.5276453\n",
       "3 30  0      0         1    0.8732904\n",
       "4 25  0      0         1    0.5362524\n",
       "5 17  0      0         0    0.3954365\n",
       "6 50  0      0         1    0.5765431"
      ]
     },
     "metadata": {},
     "output_type": "display_data"
    }
   ],
   "source": [
    "# Run this cell\n",
    "anchor$precision <- runif(151)\n",
    "# How it looks like now?\n",
    "head(anchor)"
   ]
  },
  {
   "cell_type": "markdown",
   "metadata": {},
   "source": [
    "### Weighted Means\n",
    "\n",
    "Compute the weighed average of the guesses (`cat` weighed by `precision`)"
   ]
  },
  {
   "cell_type": "code",
   "execution_count": 6,
   "metadata": {},
   "outputs": [
    {
     "data": {
      "text/html": [
       "20.5168687542592"
      ],
      "text/latex": [
       "20.5168687542592"
      ],
      "text/markdown": [
       "20.5168687542592"
      ],
      "text/plain": [
       "[1] 20.51687"
      ]
     },
     "metadata": {},
     "output_type": "display_data"
    }
   ],
   "source": [
    "weighted.mean(anchor$cat, anchor$precision) "
   ]
  },
  {
   "cell_type": "markdown",
   "metadata": {},
   "source": [
    "In the cell below, we create the `weight_cat` variable in our data, which shows the weighted guesses made by each student"
   ]
  },
  {
   "cell_type": "code",
   "execution_count": 9,
   "metadata": {},
   "outputs": [
    {
     "data": {
      "text/html": [
       "<table class=\"dataframe\">\n",
       "<caption>A data.frame: 6 × 6</caption>\n",
       "<thead>\n",
       "\t<tr><th></th><th scope=col>cat</th><th scope=col>before</th><th scope=col>live.cats</th><th scope=col>cond</th><th scope=col>precision</th><th scope=col>weight_cat</th></tr>\n",
       "\t<tr><th></th><th scope=col>&lt;int&gt;</th><th scope=col>&lt;int&gt;</th><th scope=col>&lt;int&gt;</th><th scope=col>&lt;int&gt;</th><th scope=col>&lt;dbl&gt;</th><th scope=col>&lt;dbl&gt;</th></tr>\n",
       "</thead>\n",
       "<tbody>\n",
       "\t<tr><th scope=row>1</th><td> 2</td><td>0</td><td>0</td><td>0</td><td>0.5874528</td><td> 1.1749055</td></tr>\n",
       "\t<tr><th scope=row>2</th><td> 1</td><td>0</td><td>0</td><td>1</td><td>0.5276453</td><td> 0.5276453</td></tr>\n",
       "\t<tr><th scope=row>3</th><td>30</td><td>0</td><td>0</td><td>1</td><td>0.8732904</td><td>26.1987134</td></tr>\n",
       "\t<tr><th scope=row>4</th><td>25</td><td>0</td><td>0</td><td>1</td><td>0.5362524</td><td>13.4063090</td></tr>\n",
       "\t<tr><th scope=row>5</th><td>17</td><td>0</td><td>0</td><td>0</td><td>0.3954365</td><td> 6.7224207</td></tr>\n",
       "\t<tr><th scope=row>6</th><td>50</td><td>0</td><td>0</td><td>1</td><td>0.5765431</td><td>28.8271556</td></tr>\n",
       "</tbody>\n",
       "</table>\n"
      ],
      "text/latex": [
       "A data.frame: 6 × 6\n",
       "\\begin{tabular}{r|llllll}\n",
       "  & cat & before & live.cats & cond & precision & weight\\_cat\\\\\n",
       "  & <int> & <int> & <int> & <int> & <dbl> & <dbl>\\\\\n",
       "\\hline\n",
       "\t1 &  2 & 0 & 0 & 0 & 0.5874528 &  1.1749055\\\\\n",
       "\t2 &  1 & 0 & 0 & 1 & 0.5276453 &  0.5276453\\\\\n",
       "\t3 & 30 & 0 & 0 & 1 & 0.8732904 & 26.1987134\\\\\n",
       "\t4 & 25 & 0 & 0 & 1 & 0.5362524 & 13.4063090\\\\\n",
       "\t5 & 17 & 0 & 0 & 0 & 0.3954365 &  6.7224207\\\\\n",
       "\t6 & 50 & 0 & 0 & 1 & 0.5765431 & 28.8271556\\\\\n",
       "\\end{tabular}\n"
      ],
      "text/markdown": [
       "\n",
       "A data.frame: 6 × 6\n",
       "\n",
       "| <!--/--> | cat &lt;int&gt; | before &lt;int&gt; | live.cats &lt;int&gt; | cond &lt;int&gt; | precision &lt;dbl&gt; | weight_cat &lt;dbl&gt; |\n",
       "|---|---|---|---|---|---|---|\n",
       "| 1 |  2 | 0 | 0 | 0 | 0.5874528 |  1.1749055 |\n",
       "| 2 |  1 | 0 | 0 | 1 | 0.5276453 |  0.5276453 |\n",
       "| 3 | 30 | 0 | 0 | 1 | 0.8732904 | 26.1987134 |\n",
       "| 4 | 25 | 0 | 0 | 1 | 0.5362524 | 13.4063090 |\n",
       "| 5 | 17 | 0 | 0 | 0 | 0.3954365 |  6.7224207 |\n",
       "| 6 | 50 | 0 | 0 | 1 | 0.5765431 | 28.8271556 |\n",
       "\n"
      ],
      "text/plain": [
       "  cat before live.cats cond precision weight_cat\n",
       "1  2  0      0         0    0.5874528  1.1749055\n",
       "2  1  0      0         1    0.5276453  0.5276453\n",
       "3 30  0      0         1    0.8732904 26.1987134\n",
       "4 25  0      0         1    0.5362524 13.4063090\n",
       "5 17  0      0         0    0.3954365  6.7224207\n",
       "6 50  0      0         1    0.5765431 28.8271556"
      ]
     },
     "metadata": {},
     "output_type": "display_data"
    }
   ],
   "source": [
    "#run this cell\n",
    "anchor$weight_cat <- NULL\n",
    "for (i in 1:length(anchor$cat)) {\n",
    "  anchor$weight_cat[i] <- anchor$cat[i] * anchor$precision[i]\n",
    "}\n",
    "head(anchor)"
   ]
  },
  {
   "cell_type": "markdown",
   "metadata": {},
   "source": [
    "### Find the Treatment Effect\n",
    "\n",
    "Compute the difference in means between the high condition and low condition using the `weight_cat` variable."
   ]
  },
  {
   "cell_type": "code",
   "execution_count": 2,
   "metadata": {
    "scrolled": true
   },
   "outputs": [
    {
     "data": {
      "text/plain": [
       "Design:  Standard \n",
       "     Estimate Std. Error  t value     Pr(>|t|) CI Lower CI Upper       DF\n",
       "cond 18.75946   2.757204 6.803798 8.612699e-10 13.28673 24.23218 96.38872"
      ]
     },
     "metadata": {},
     "output_type": "display_data"
    }
   ],
   "source": [
    "# Type your code here\n",
    "library(estimatr)\n",
    "difference_in_means(cat ~ cond, anchor, condition1 = 0, condition2 = 1)"
   ]
  },
  {
   "cell_type": "markdown",
   "metadata": {},
   "source": [
    "### Interpret Results\n",
    "\n",
    "Interpret the output obtained above at a 0.05 significance level."
   ]
  },
  {
   "cell_type": "markdown",
   "metadata": {},
   "source": [
    "*Type your notes here*"
   ]
  }
 ],
 "metadata": {
  "kernelspec": {
   "display_name": "R",
   "language": "R",
   "name": "ir"
  },
  "language_info": {
   "codemirror_mode": "r",
   "file_extension": ".r",
   "mimetype": "text/x-r-source",
   "name": "R",
   "pygments_lexer": "r",
   "version": "4.2.1"
  }
 },
 "nbformat": 4,
 "nbformat_minor": 4
}
