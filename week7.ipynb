{
 "cells": [
  {
   "cell_type": "markdown",
   "metadata": {},
   "source": [
    "## PS3 Discussion: Statistical Significance \n",
    "\n",
    "### PS 3 Week 6 Discussion - Clara Hu\n",
    "\n",
    "Today, we're going reinforce our understanding of uncertainty and statistical significance.\n",
    "_______"
   ]
  },
  {
   "cell_type": "markdown",
   "metadata": {},
   "source": [
    "Let's take a look at an experiment where students in a large course were randomly assigned to attend section. \n",
    "\n",
    "Our dataset shows a hypothetical scenario in which we can observe *both* the potential outcome under treatment (randomly assigned to attend section) and potential outcome under control (randomly assigned to not attend section)."
   ]
  },
  {
   "cell_type": "code",
   "execution_count": null,
   "metadata": {
    "scrolled": false
   },
   "outputs": [],
   "source": [
    "section_experiment <- read.csv(\"data/section_attd_experiment.csv\")\n",
    "head(section_experiment)"
   ]
  },
  {
   "cell_type": "markdown",
   "metadata": {},
   "source": [
    "Let's see how the distributions of the potential outcome of grades under section attendance and section non-attendance looks like."
   ]
  },
  {
   "cell_type": "code",
   "execution_count": null,
   "metadata": {},
   "outputs": [],
   "source": [
    "hist(section_experiment$po_control) # histogram for control group\n",
    "abline(v = mean(section_experiment$po_control), col = \"red\", lwd = 3) #mean shown with red line\n",
    "hist(section_experiment$po_treatment) # histogram for treatment group\n",
    "abline(v = mean(section_experiment$po_treatment), col = \"red\", lwd = 3) #mean shown with red line"
   ]
  },
  {
   "cell_type": "markdown",
   "metadata": {},
   "source": [
    "Whoo, it seems like attending section makes people get higher grades! But, let's not jump to any conclusions yet."
   ]
  },
  {
   "cell_type": "markdown",
   "metadata": {},
   "source": [
    "Let's examine the distribution of the potential outcome for the treatment group more closely.  \n",
    "\n",
    "**Questions:**\n",
    "\n",
    "1. Is the distribution of the potential outcome under treatment normal?\n",
    "\n",
    "2. Is the distribution here a sampling distribution?\n",
    "\n",
    "Let's get a better idea of the potential outcomes under treatment for all the students in the class.  \n",
    "Find the standard deviation and the mean of the potential outcome under treatment among all students in the class. "
   ]
  },
  {
   "cell_type": "code",
   "execution_count": null,
   "metadata": {},
   "outputs": [],
   "source": [
    "# Type your code here\n",
    "## For SD:\n",
    "sd(...)\n",
    "## For mean:\n",
    "mean(...)"
   ]
  },
  {
   "cell_type": "markdown",
   "metadata": {},
   "source": [
    "Now, in reality, we can't observe both the potential outcome under treatment and the potential outcome under control. That's why running *randomized* experiments are important. For the following parts, we randomly assign 150 to attend section and 150 to not attend section.\n",
    "\n",
    "By running the cell below, you randomly select 150 different people to attend section. The code plots the distribution, the mean and the standard deviation of the grades of the people in the sample who were assigned to attend section. "
   ]
  },
  {
   "cell_type": "code",
   "execution_count": null,
   "metadata": {
    "scrolled": true
   },
   "outputs": [],
   "source": [
    "# Each time you re-run this cell, you will select a different sample!\n",
    "\n",
    "section_experiment_subset <- section_experiment$po_treatment[sample(x=1:300, size = 150, replace = F)]\n",
    "\n",
    "# The SD is:\n",
    "sd(section_experiment_subset)\n",
    "# The mean is:\n",
    "mean(section_experiment_subset)"
   ]
  },
  {
   "cell_type": "code",
   "execution_count": null,
   "metadata": {},
   "outputs": [],
   "source": [
    "# The distribution looks like:\n",
    "hist(section_experiment_subset)\n",
    "abline(v = mean(section_experiment_subset), col = \"red\", lwd = 3)"
   ]
  },
  {
   "cell_type": "markdown",
   "metadata": {},
   "source": [
    "**Questions:**\n",
    "\n",
    "1. Is the distribution of the grades of people in the sample normal?\n",
    "\n",
    "2. Is the distribution here a sampling distribution?"
   ]
  },
  {
   "cell_type": "markdown",
   "metadata": {},
   "source": [
    "By running the code below, you once again randomly select 150 people to attend section. However, rather than doing this once, you are now doing this 1000 times. You save their mean grade in each sample, and then plot the mean grades from the 1000 draws."
   ]
  },
  {
   "cell_type": "code",
   "execution_count": null,
   "metadata": {},
   "outputs": [],
   "source": [
    "# This code randomly selects samples of size 150 from people people to attend section \n",
    "# We are now saving the mean (for those attending section) of each of the 1000 draws to a value in rep_draw.\n",
    "rep_draw <- as.numeric()\n",
    "for (i in 1:1000){\n",
    "section_experiment_subset <- section_experiment$po_treatment[sample(x=1:300, size = 150, replace = F)]\n",
    "rep_draw[i] <- mean(section_experiment_subset)\n",
    "    }\n",
    "hist(rep_draw)\n",
    "abline(v = mean(rep_draw), col = \"red\", lwd = 3)\n",
    "mean(rep_draw)"
   ]
  },
  {
   "cell_type": "markdown",
   "metadata": {},
   "source": [
    "**Questions:**\n",
    "\n",
    "1. Is the distribution normal?\n",
    "\n",
    "2. Is the distribution here a sampling distribution?\n",
    "\n",
    "Let's find the standard error. Recall the standard error is the standard deviation of a sampling distribution."
   ]
  },
  {
   "cell_type": "code",
   "execution_count": null,
   "metadata": {},
   "outputs": [],
   "source": [
    "# Find the SE of the distribution below\n",
    "sd(...)"
   ]
  },
  {
   "cell_type": "markdown",
   "metadata": {},
   "source": [
    "In the experiment, however, the outcome isn't the mean grade in the treatment group. It is the difference in mean grade between the treatment group (section) and the control group (no section).\n",
    "\n",
    "The code below runs the hypothetical experiment once, randomly assigning 150 to attend section and 150 not to attend section."
   ]
  },
  {
   "cell_type": "code",
   "execution_count": null,
   "metadata": {},
   "outputs": [],
   "source": [
    "section_experiment_draw1 <- section_experiment\n",
    "# We randomly assign people to the two groups here\n",
    "section_experiment_draw1$assignment <- sample(c(rep(\"section\", 150), rep(\"nosection\", 150)), replace = F)\n",
    "# Create a new variable representing what we would observe\n",
    "section_experiment_draw1$po_observed <- ifelse(section_experiment_draw1$assignment == \"section\", section_experiment_draw1$po_treatment,\n",
    "                                        section_experiment_draw1$po_control)\n",
    "\n",
    "# Get rid of the potential outcome variables that we can't actually observe\n",
    "section_experiment_draw1$po_treatment <- NULL\n",
    "section_experiment_draw1$po_control <- NULL\n",
    "\n",
    "# This is what we would actually observe in reality_{TM}\n",
    "head(section_experiment_draw1)"
   ]
  },
  {
   "cell_type": "markdown",
   "metadata": {},
   "source": [
    "**Creating Hypotheses**\n",
    "\n",
    "1. Null Hypothesis: ...\n",
    "2. Alternative Hypothesis: ..."
   ]
  },
  {
   "cell_type": "markdown",
   "metadata": {},
   "source": [
    "Let's examine our treatment and control groups more carefully by separating them into subsets"
   ]
  },
  {
   "cell_type": "code",
   "execution_count": null,
   "metadata": {},
   "outputs": [],
   "source": [
    "# Let's make two subsets, one for treatment and one for control\n",
    "section_exp_section <- subset(section_experiment_draw1, assignment == \"section\")\n",
    "section_exp_nosection <- subset(section_experiment_draw1, assignment == \"nosection\")\n",
    "# For the treatment group\n",
    "print(\"Section group: sample mean and sd\")\n",
    "mean(section_exp_section$po_observed)\n",
    "sd(section_exp_section$po_observed)\n",
    "\n",
    "\n",
    "# For the control group\n",
    "print(\"No section group: sample mean and sd\")\n",
    "mean(section_exp_nosection$po_observed)\n",
    "sd(section_exp_nosection$po_observed)\n"
   ]
  },
  {
   "cell_type": "markdown",
   "metadata": {},
   "source": [
    "**Treatment Effect**  \n",
    "In this particular draw, the treatment effect is: "
   ]
  },
  {
   "cell_type": "code",
   "execution_count": null,
   "metadata": {
    "scrolled": true
   },
   "outputs": [],
   "source": [
    "# Find the treatment effect\n",
    "treatment_effect <- mean(section_exp_section$po_observed) - mean(section_exp_nosection$po_observed)\n",
    "treatment_effect"
   ]
  },
  {
   "cell_type": "markdown",
   "metadata": {},
   "source": [
    "**Is this an estimate, estimand and estimator?**"
   ]
  },
  {
   "cell_type": "markdown",
   "metadata": {},
   "source": [
    "Let's check to see if our treatment effect is statistically significant!\n",
    "\n",
    "**Using the `difference_in_means()` function**, find the t-statistic and p-value of the experiment in `section_experiment_draw1`. Assume we are at an 0.05 level of significance.  Provide an interpretation for the two estimates."
   ]
  },
  {
   "cell_type": "code",
   "execution_count": null,
   "metadata": {},
   "outputs": [],
   "source": [
    "# Type your code here\n",
    "library(estimatr)\n",
    "difference_in_means(...)"
   ]
  },
  {
   "cell_type": "markdown",
   "metadata": {},
   "source": [
    "**Question:**  \n",
    "What does the output tell us?   \n",
    "*Bonus Question:* How should we interpret the confidence interval?\n",
    "\n",
    "*Type your interpretation here*"
   ]
  },
  {
   "cell_type": "markdown",
   "metadata": {},
   "source": [
    "**Visualizing our results**"
   ]
  },
  {
   "cell_type": "code",
   "execution_count": null,
   "metadata": {},
   "outputs": [],
   "source": [
    "#Run this Cell\n",
    "treatment_means <- as.numeric()\n",
    "control_means <- as.numeric()\n",
    "\n",
    "# We run this 1000 times\n",
    "for (i in 1:1000){\n",
    "    section_experiment_draw_1000 <- section_experiment\n",
    "    # We randomly assign people to the two groups here\n",
    "    section_experiment_draw_1000$assignment <- sample(c(rep(\"section\", 150), rep(\"nosection\", 150)), replace = F)\n",
    "    # Create a new variable representing what we would observe\n",
    "    section_experiment_draw_1000$po_observed <- ifelse(section_experiment_draw_1000$assignment == \"section\", section_experiment_draw_1000$po_treatment,\n",
    "                                        section_experiment_draw_1000$po_control)\n",
    "    # Get rid of the potential outcome variables that we can't actually observe\n",
    "    section_experiment_draw_1000$po_treatment <- NULL\n",
    "    section_experiment_draw_1000$po_control <- NULL\n",
    "    section_exp_section_tmp <- subset(section_experiment_draw_1000, assignment == \"section\")\n",
    "    section_exp_nosection_tmp <- subset(section_experiment_draw_1000, assignment == \"nosection\")\n",
    "    treatment_means[i] <- mean(section_exp_section_tmp$po_observed)\n",
    "    control_means[i] <- mean(section_exp_nosection_tmp$po_observed)\n",
    "\n",
    "}\n",
    "\n",
    "hist(control_means, xlim = c(25, 90), main = \"Sampling Distributions\", xlab = \"Grades\", col = \"red\")\n",
    "hist(treatment_means, col = \"blue\", add = T)\n",
    "legend(\"top\", inset=.02, c(\"control\",\"treatment\"), fill=c(\"red\", \"blue\"), horiz=TRUE, cex=0.8)"
   ]
  },
  {
   "cell_type": "markdown",
   "metadata": {},
   "source": []
  }
 ],
 "metadata": {
  "kernelspec": {
   "display_name": "R",
   "language": "R",
   "name": "ir"
  },
  "language_info": {
   "codemirror_mode": "r",
   "file_extension": ".r",
   "mimetype": "text/x-r-source",
   "name": "R",
   "pygments_lexer": "r",
   "version": "4.2.1"
  }
 },
 "nbformat": 4,
 "nbformat_minor": 4
}
