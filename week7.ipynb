{
 "cells": [
  {
   "cell_type": "markdown",
   "metadata": {},
   "source": [
    "## PS3 Discussion: Statistical Significance \n",
    "\n",
    "### PS 3 Week 7 Discussion - Clara Hu\n",
    "\n",
    "Today, we're going reinforce our understanding of uncertainty and statistical significance.\n",
    "_______"
   ]
  },
  {
   "cell_type": "markdown",
   "metadata": {},
   "source": [
    "Let's take a look at an experiment where students in a large course were randomly assigned to attend section. \n",
    "\n",
    "Our dataset shows a hypothetical scenario in which we can observe *both* the potential outcome under **treatment** (randomly assigned to attend section) and potential outcome under **control** (randomly assigned to not attend section)."
   ]
  },
  {
   "cell_type": "code",
   "execution_count": null,
   "metadata": {
    "scrolled": false
   },
   "outputs": [],
   "source": [
    "section_experiment <- read.csv(\"data/section_attd_experiment.csv\")\n",
    "head(section_experiment)"
   ]
  },
  {
   "cell_type": "markdown",
   "metadata": {},
   "source": [
    "In reality, we can't observe both the potential outcome under treatment and the potential outcome under control. That's why running *randomized* experiments are important. \n",
    "\n",
    "In this case, we are running an experiment to find out if attending section has an effect on coure grades."
   ]
  },
  {
   "cell_type": "markdown",
   "metadata": {},
   "source": [
    "### Creating Hypotheses\n",
    "\n",
    "1. Null Hypothesis: ...\n",
    "2. Alternative Hypothesis: ..."
   ]
  },
  {
   "cell_type": "markdown",
   "metadata": {},
   "source": [
    "### Sampling"
   ]
  },
  {
   "cell_type": "markdown",
   "metadata": {},
   "source": [
    "In the cell below, we randomly sample 300 people and randomly assign 150 to attend section and 150 to not attend section. This runs our experiment using one sample."
   ]
  },
  {
   "cell_type": "code",
   "execution_count": null,
   "metadata": {
    "scrolled": false
   },
   "outputs": [],
   "source": [
    "section_experiment_draw1 <- section_experiment\n",
    "# We randomly assign people to the two groups here\n",
    "section_experiment_draw1$assignment <- sample(c(rep(\"section\", 150), rep(\"nosection\", 150)), replace = F)\n",
    "# Create a new variable representing what we would observe\n",
    "section_experiment_draw1$po_observed <- ifelse(section_experiment_draw1$assignment == \"section\", section_experiment_draw1$po_treatment,\n",
    "                                        section_experiment_draw1$po_control)\n",
    "\n",
    "# Get rid of the potential outcome variables that we can't actually observe\n",
    "section_experiment_draw1$po_treatment <- NULL\n",
    "section_experiment_draw1$po_control <- NULL\n",
    "\n",
    "# This is what we would actually observe in reality\n",
    "head(section_experiment_draw1)"
   ]
  },
  {
   "cell_type": "markdown",
   "metadata": {},
   "source": [
    "Let's take a look at our sample. The code plots the distribution and finds the mean and the standard deviation of the grades of the people in the sample. "
   ]
  },
  {
   "cell_type": "code",
   "execution_count": null,
   "metadata": {
    "scrolled": false
   },
   "outputs": [],
   "source": [
    "#plot\n",
    "hist(section_experiment_draw1$po_observed, main = \"Our Sample\", xlab = \"Grades\")\n",
    "abline(v = mean(section_experiment_draw1$po_observed), col = \"red\", lwd = 3) #line showing mean\n",
    "\n",
    "mean(section_experiment_draw1$po_observed) #find mean\n",
    "sd(section_experiment_draw1$po_observed) #find sd"
   ]
  },
  {
   "cell_type": "markdown",
   "metadata": {},
   "source": [
    "**Questions:**\n",
    "\n",
    "1. Is this distribution normal?\n",
    "\n",
    "2. Is the distribution here a sampling distribution?"
   ]
  },
  {
   "cell_type": "markdown",
   "metadata": {},
   "source": [
    "Using the code below, we once again randomly sample 300 people with 150 to attend section and 150 to not attend section. However, rather than doing this once, we are now sampling 1000 times. Let's save the mean grade from each sample, and then plot the means from the 1000 draws."
   ]
  },
  {
   "cell_type": "code",
   "execution_count": null,
   "metadata": {
    "scrolled": false
   },
   "outputs": [],
   "source": [
    "# This code randomly selects samples of size 300\n",
    "# We are now saving the mean of each of the 1000 draws to a value in rep_draw.\n",
    "rep_draw <- as.numeric()\n",
    "for (i in 1:1000){\n",
    "    section_experiment_treat_subset <- section_experiment$po_treatment[sample(x=1:300, size = 150, replace = F)]\n",
    "    section_experiment_control_subset <- section_experiment$po_control[sample(x=1:300, size = 150, replace = F)]\n",
    "    section_experiment_subset <- c(section_experiment_treat_subset, section_experiment_control_subset)\n",
    "    rep_draw[i] <- mean(section_experiment_subset)\n",
    "}\n",
    "hist(rep_draw, xlab = \"Grades\")\n",
    "abline(v = mean(rep_draw), col = \"red\", lwd = 3)\n",
    "mean(rep_draw)"
   ]
  },
  {
   "cell_type": "markdown",
   "metadata": {},
   "source": [
    "**Questions:**\n",
    "\n",
    "1. Is the distribution normal?\n",
    "\n",
    "2. Is the distribution here a sampling distribution?"
   ]
  },
  {
   "cell_type": "markdown",
   "metadata": {},
   "source": [
    "Let's return to our sample (`section_experiment_draw1`) and examine our treatment and control groups more carefully by separating them into subsets."
   ]
  },
  {
   "cell_type": "code",
   "execution_count": null,
   "metadata": {
    "scrolled": false
   },
   "outputs": [],
   "source": [
    "# Let's make two subsets, one for treatment and one for control\n",
    "section_exp_section <- subset(section_experiment_draw1, assignment == \"section\")\n",
    "section_exp_nosection <- subset(section_experiment_draw1, assignment == \"nosection\")\n",
    "\n",
    "# For the control group\n",
    "print(\"No section group: sample mean and sd\") \n",
    "mean(section_exp_nosection$po_observed)\n",
    "sd(section_exp_nosection$po_observed)\n",
    "\n",
    "# For the treatment group\n",
    "print(\"Section group: sample mean and sd\")\n",
    "mean(section_exp_section$po_observed)\n",
    "sd(section_exp_section$po_observed)"
   ]
  },
  {
   "cell_type": "markdown",
   "metadata": {},
   "source": [
    "**Visualize the distributions for the two groups**"
   ]
  },
  {
   "cell_type": "code",
   "execution_count": null,
   "metadata": {
    "scrolled": false
   },
   "outputs": [],
   "source": [
    "#Control subset\n",
    "hist(section_exp_nosection$po_observed, main = \"Control Group\", xlab = \"Grades\")\n",
    "abline(v = mean(section_exp_nosection$po_observed), col = \"red\", lwd = 3)\n",
    "\n",
    "#Treatment subset\n",
    "hist(section_exp_section$po_observed, main = \"Treatment Group\", xlab = \"Grades\")\n",
    "abline(v = mean(section_exp_section$po_observed), col = \"red\", lwd = 3)"
   ]
  },
  {
   "cell_type": "markdown",
   "metadata": {},
   "source": [
    "Whoo, it seems like attending section makes people get higher grades! But, let's not jump to any conclusions yet."
   ]
  },
  {
   "cell_type": "markdown",
   "metadata": {},
   "source": [
    "### Treatment Effect\n",
    "The outcome of our experiment we are interested in is the difference in means between the *section* and *no section* groups. In our sample, the estimate (treatment effect) is: "
   ]
  },
  {
   "cell_type": "code",
   "execution_count": null,
   "metadata": {
    "scrolled": true
   },
   "outputs": [],
   "source": [
    "# Find the treatment effect\n",
    "treatment_effect <- mean(section_exp_section$po_observed) - mean(section_exp_nosection$po_observed)\n",
    "treatment_effect"
   ]
  },
  {
   "cell_type": "markdown",
   "metadata": {},
   "source": [
    "Let's check to see if our treatment effect is statistically significant!\n",
    "\n",
    "### Statistical Significance\n",
    "\n",
    "Using the `difference_in_means()` function, find the t-statistic and p-value of the experiment in `section_experiment_draw1`. Assume we are at an 0.05 level of significance.  Provide an interpretation for the two estimates."
   ]
  },
  {
   "cell_type": "code",
   "execution_count": null,
   "metadata": {},
   "outputs": [],
   "source": [
    "#Recall this is what the dataset for our experiment looks like\n",
    "head(section_experiment_draw1)"
   ]
  },
  {
   "cell_type": "code",
   "execution_count": null,
   "metadata": {
    "scrolled": false
   },
   "outputs": [],
   "source": [
    "# Type your code using the difference_in_means() function here\n",
    "library(estimatr)\n",
    "difference_in_means(...)"
   ]
  },
  {
   "cell_type": "markdown",
   "metadata": {},
   "source": [
    "**Question:**  \n",
    "What does the output tell us?   \n",
    "\n",
    "*Type your interpretation here*\n",
    "\n",
    "*Bonus Question:* How should we interpret the confidence interval?\n"
   ]
  },
  {
   "cell_type": "markdown",
   "metadata": {},
   "source": [
    "**Visualizing our results**"
   ]
  },
  {
   "cell_type": "code",
   "execution_count": null,
   "metadata": {
    "scrolled": false
   },
   "outputs": [],
   "source": [
    "#Run this Cell\n",
    "treatment_means <- as.numeric()\n",
    "control_means <- as.numeric()\n",
    "\n",
    "# We run this 1000 times\n",
    "for (i in 1:1000){\n",
    "    section_experiment_draw_1000 <- section_experiment\n",
    "    # We randomly assign people to the two groups here\n",
    "    section_experiment_draw_1000$assignment <- sample(c(rep(\"section\", 150), rep(\"nosection\", 150)), replace = F)\n",
    "    # Create a new variable representing what we would observe\n",
    "    section_experiment_draw_1000$po_observed <- ifelse(section_experiment_draw_1000$assignment == \"section\", section_experiment_draw_1000$po_treatment,\n",
    "                                        section_experiment_draw_1000$po_control)\n",
    "    # Get rid of the potential outcome variables that we can't actually observe\n",
    "    section_experiment_draw_1000$po_treatment <- NULL\n",
    "    section_experiment_draw_1000$po_control <- NULL\n",
    "    section_exp_section_tmp <- subset(section_experiment_draw_1000, assignment == \"section\")\n",
    "    section_exp_nosection_tmp <- subset(section_experiment_draw_1000, assignment == \"nosection\")\n",
    "    treatment_means[i] <- mean(section_exp_section_tmp$po_observed)\n",
    "    control_means[i] <- mean(section_exp_nosection_tmp$po_observed)\n",
    "\n",
    "}\n",
    "\n",
    "hist(control_means, xlim = c(25, 90), main = \"Sampling Distributions\", xlab = \"Grades\", col = \"red\")\n",
    "hist(treatment_means, col = \"blue\", add = T)\n",
    "legend(\"top\", inset=.02, c(\"control\",\"\n",
    "treatment\"), fill=c(\"red\", \"blue\"), horiz=TRUE, cex=0.8)"
   ]
  },
  {
   "cell_type": "code",
   "execution_count": null,
   "metadata": {},
   "outputs": [],
   "source": []
  }
 ],
 "metadata": {
  "kernelspec": {
   "display_name": "R",
   "language": "R",
   "name": "ir"
  },
  "language_info": {
   "codemirror_mode": "r",
   "file_extension": ".r",
   "mimetype": "text/x-r-source",
   "name": "R",
   "pygments_lexer": "r",
   "version": "4.2.1"
  }
 },
 "nbformat": 4,
 "nbformat_minor": 4
}
