{
 "cells": [
  {
   "cell_type": "markdown",
   "metadata": {},
   "source": [
    "# Treatments and Comparisons\n",
    "\n",
    "### PS 3 Week 5 Discussion - Clara Hu\n",
    "\n"
   ]
  },
  {
   "cell_type": "markdown",
   "metadata": {},
   "source": [
    "## Quick Check: Debugging Exercise\n",
    "\n",
    "-------\n",
    "\n",
    "**Data Dictionary/Codebook**\n",
    "\n",
    "`cat`: estimated speed in mph\n",
    "\n",
    "`before`: 1 = student knew the exercise beforehand, 0 = student did not know\n",
    "\n",
    "`live.cats`: 1 = student lives with cats, 0 = student does not live with cats\n",
    "\n",
    "`cond`: 1 = student was exposed to the \"high\" condition (40 mph), 0 = student was exposed to the \"low\" condition (3 mph)"
   ]
  },
  {
   "cell_type": "code",
   "execution_count": null,
   "metadata": {},
   "outputs": [],
   "source": [
    "# Run this cell to read in the data.\n",
    "anchor <- read.csv(\"data/anchoring_data_FA20.csv\")\n",
    "head(anchor)"
   ]
  },
  {
   "cell_type": "markdown",
   "metadata": {},
   "source": [
    "In the following lines of code, we are using the `anchor` dataset from last week to find the average estimate given by students exposed to the low condition who live with cats but did not know about the experiment in advance. \n",
    "\n",
    "Edit each line so that our code can run smoothly."
   ]
  },
  {
   "cell_type": "code",
   "execution_count": null,
   "metadata": {},
   "outputs": [],
   "source": [
    "low_anchor <- subset(anchor, low)\n",
    "low_live.cat_not.before <- subset(anchor, live.cat, before = 0)\n",
    "mean(cat$low_live.cat_not.before)"
   ]
  },
  {
   "cell_type": "markdown",
   "metadata": {},
   "source": [
    "## Difference in Means\n",
    "\n",
    "Today, we'll look at some data on midterm performances from a large undergraduate course. The course instructors wanted to learn about the effectiveness of tutors during one semester of the course.\n",
    "\n",
    "Students were randomly assigned to attend tutoring after taking the first midterm. The midterm scores for all of the students in the course were recorded and participation in tutoring was noted. \n",
    "\n",
    "-------\n",
    "\n",
    "**Data Dictionary/Codebook**\n",
    "\n",
    "`Mentored`: `TRUE` = student participated in tutoring, `FALSE` = student did not participate in tutoring\n",
    "\n",
    "`MT1`: student score on first midterm\n",
    "\n",
    "`MT2`: student score on second midterm\n",
    "\n",
    "`Difference`: difference between first and second midterm scores (`MT2 - MT1`)\n",
    "\n",
    "--------\n",
    "\n",
    "**Midterm 2 is notorious for being much more difficult than Midterm 1,** so we will focus on how performance on MT2 was compared to performance on MT1 rather than raw grades."
   ]
  },
  {
   "cell_type": "code",
   "execution_count": null,
   "metadata": {},
   "outputs": [],
   "source": [
    "# Run this cell. \n",
    "library(estimatr)\n",
    "scores <- read.csv(\"data/scores.csv\")\n",
    "head(scores)"
   ]
  },
  {
   "cell_type": "markdown",
   "metadata": {},
   "source": [
    "### Discuss\n",
    "\n",
    "Before we begin, we want to answer a few questions to set our analysis.\n",
    "\n",
    "1) What column contains info about the treatment/control?\n",
    "\n",
    "2) Who is our baseline (control) group?\n",
    "\n",
    "3) Who is the group that we will compare to the baseline?\n",
    "\n",
    "4) What is the dependent variable in this case?\n",
    "\n",
    "5) What is the independent variable?"
   ]
  },
  {
   "cell_type": "markdown",
   "metadata": {},
   "source": [
    "*Type your notes here.*"
   ]
  },
  {
   "cell_type": "markdown",
   "metadata": {},
   "source": [
    "-------\n",
    "Now that we have that information, we can make the following hypothesis:\n",
    "\n",
    "\"If a student receives tutoring, then they will do better on Midterm 2 versus their score on Midterm 1, compared to students who did not receive tutoring.\"\n",
    "\n",
    "Let's dive a little bit deeper. Our statistic is:\n",
    "\n",
    "`mean(difference for tutored students) - mean(difference for non-tutored students)`\n",
    "\n",
    "If tutoring worked, would we get a **positive number, negative number, or zero?**\n"
   ]
  },
  {
   "cell_type": "markdown",
   "metadata": {},
   "source": [
    "*Type your notes here.*"
   ]
  },
  {
   "cell_type": "markdown",
   "metadata": {},
   "source": [
    "### Coding Question:\n",
    "\n",
    "Use the `difference_in_means` function to figure out the the difference in means for (MT2-MT1) for tutored versus non-tutored students.\n",
    "\n",
    "Stuck? Use the R Cheat Sheet: https://bcourses.berkeley.edu/courses/1520983/pages/r-cheat-sheet?module_item_id=16734214 "
   ]
  },
  {
   "cell_type": "code",
   "execution_count": null,
   "metadata": {},
   "outputs": [],
   "source": [
    "..."
   ]
  },
  {
   "cell_type": "markdown",
   "metadata": {},
   "source": [
    "How can we find the same result using the subsetting method we learned earlier in the course?"
   ]
  },
  {
   "cell_type": "code",
   "execution_count": null,
   "metadata": {},
   "outputs": [],
   "source": [
    "control_group <- ...\n",
    "treat_group <- ...\n",
    "control_mean <-\n",
    "treat_mean <- ...\n",
    "diff_means <- ..."
   ]
  },
  {
   "cell_type": "markdown",
   "metadata": {},
   "source": [
    "So, what did we find? Talk to your neighbor about the numbers above before we discuss as a class. "
   ]
  },
  {
   "cell_type": "markdown",
   "metadata": {},
   "source": [
    "**Why can't I exactly say that tutoring causes students to improve more on their midterms compared to students who are not tutored?**'"
   ]
  },
  {
   "cell_type": "markdown",
   "metadata": {},
   "source": [
    "*Type your notes here.*"
   ]
  },
  {
   "cell_type": "markdown",
   "metadata": {},
   "source": [
    "## If time -- quick example of uncertainty\n",
    "\n",
    "How did students do on Midterm 2? Since we have all of the data, I can just take the average of that column (we have all of the information, and this number is set). "
   ]
  },
  {
   "cell_type": "code",
   "execution_count": null,
   "metadata": {},
   "outputs": [],
   "source": [
    "mean(scores$MT2) # The average MT2 score was 62%"
   ]
  },
  {
   "cell_type": "markdown",
   "metadata": {},
   "source": [
    "Now, imagine that I could only ask 1 discussion's worth of students. I randomly sampled 30 students and asked them for their midterm score."
   ]
  },
  {
   "cell_type": "code",
   "execution_count": null,
   "metadata": {},
   "outputs": [],
   "source": [
    "our_sample <- scores[sample(1:nrow(scores), 30, replace = FALSE),] # sample 30 students without replacement\n",
    "mean(our_sample$MT2) # calculate their average score"
   ]
  },
  {
   "cell_type": "markdown",
   "metadata": {},
   "source": [
    "Notice the difference! If we did this 1000 times, what are all of the potential outcomes?"
   ]
  },
  {
   "cell_type": "code",
   "execution_count": null,
   "metadata": {},
   "outputs": [],
   "source": [
    "sample_means <- array()\n",
    "\n",
    "for(i in c(1:1000)){\n",
    "    new_sample <- scores[sample(1:nrow(scores), 30, replace = FALSE),] # sample 30 students without replacement\n",
    "    sample_means[i] <- mean(new_sample$MT2) # calculate their average score\n",
    "}"
   ]
  },
  {
   "cell_type": "code",
   "execution_count": null,
   "metadata": {},
   "outputs": [],
   "source": [
    "# Here's the range of outcomes we got with 1000 different samples:\n",
    "min(sample_means)\n",
    "max(sample_means)"
   ]
  },
  {
   "cell_type": "markdown",
   "metadata": {},
   "source": [
    "**Uncertainty** is measured by the amount of error in an estimate of the mean or average value."
   ]
  },
  {
   "cell_type": "code",
   "execution_count": null,
   "metadata": {},
   "outputs": [],
   "source": [
    "# In a graphical format\n",
    "hist(sample_means)\n",
    "abline(v = mean(scores$MT2), col = \"red\", lwd = 3)"
   ]
  },
  {
   "cell_type": "code",
   "execution_count": null,
   "metadata": {},
   "outputs": [],
   "source": []
  }
 ],
 "metadata": {
  "kernelspec": {
   "display_name": "R",
   "language": "R",
   "name": "ir"
  },
  "language_info": {
   "codemirror_mode": "r",
   "file_extension": ".r",
   "mimetype": "text/x-r-source",
   "name": "R",
   "pygments_lexer": "r",
   "version": "4.2.1"
  }
 },
 "nbformat": 4,
 "nbformat_minor": 4
}
