{
 "cells": [
  {
   "cell_type": "markdown",
   "id": "b1001354",
   "metadata": {},
   "source": [
    "## Multivariate Regression\n",
    "\n",
    "### PS3 Week 11 Discussion - Clara Hu"
   ]
  },
  {
   "cell_type": "markdown",
   "id": "5d517642",
   "metadata": {},
   "source": [
    "This week we will be taking a look at some data from a 2018 study from the CDC on trends in mean weight, height, waist circumference, and body mass index (BMI) among adults in the United States from 1999 to 2016. If you are interested, you can read the full report [here](https://www.cdc.gov/nchs/data/nhsr/nhsr122-508.pdf).\n",
    "\n",
    "Let's take a look at the data:"
   ]
  },
  {
   "cell_type": "code",
   "execution_count": null,
   "id": "38a99ad7",
   "metadata": {},
   "outputs": [],
   "source": [
    "library(ggplot2)\n",
    "library(estimatr)\n",
    "\n",
    "data <- read.table(\"./data/waistweightheight.txt\", header = TRUE)\n",
    "head(data)"
   ]
  },
  {
   "cell_type": "markdown",
   "id": "8dd06f73",
   "metadata": {},
   "source": [
    "Here is a quick rundown of what each column means:\n",
    "\n",
    "- `Waistcm`: Waist circumference in centimenters (cm)\n",
    "- `wtKg`: Weight in kilograms (kg)\n",
    "- `HTCm`: Height in centimeters (cm)\n",
    "- `gen`: 1 = male, 0 = female\n",
    "- `Waist`: Waist circumference in inches (in)\n",
    "- `Height`: Height in inches (in)\n",
    "- `Weight`: Weight in pounds (lb)\n",
    "\n",
    "We are interested in predicting weight based on other metrics."
   ]
  },
  {
   "cell_type": "markdown",
   "id": "de852f3e",
   "metadata": {},
   "source": [
    "### Bivariate Regression\n",
    "\n",
    "Run a regression of `Weight` against `Height`."
   ]
  },
  {
   "cell_type": "code",
   "execution_count": null,
   "id": "a4419b5b",
   "metadata": {},
   "outputs": [],
   "source": [
    "# Type your code here\n",
    "model1 = summary(...)\n",
    "model1"
   ]
  },
  {
   "cell_type": "markdown",
   "id": "9cb4afc4",
   "metadata": {},
   "source": [
    "#### Given the estimates in the output, what would our equation to estimate `Weight` from `Height` be?  \n",
    "*Recall: y = mx + b*"
   ]
  },
  {
   "cell_type": "markdown",
   "id": "6ec85f03",
   "metadata": {},
   "source": [
    "*Type your notes here*"
   ]
  },
  {
   "cell_type": "markdown",
   "id": "46633797",
   "metadata": {},
   "source": [
    "#### Provide an interpretation of the estimate for the `(Intercept)` term and `Height` term."
   ]
  },
  {
   "cell_type": "markdown",
   "id": "501646c8",
   "metadata": {},
   "source": [
    "*Type your notes here*"
   ]
  },
  {
   "cell_type": "markdown",
   "id": "cd83c156",
   "metadata": {},
   "source": [
    "### Plot Bivariate Regression\n",
    "Let's take a look at the performance of our model and plot weight against height."
   ]
  },
  {
   "cell_type": "code",
   "execution_count": null,
   "id": "f15b6093",
   "metadata": {},
   "outputs": [],
   "source": [
    "## Plot weight vs height data and bivariate model\n",
    "plot(data$Height, data$Weight, pch = 20, col = 'darkgray', xlab = \"Height\", ylab = \"Weight\", main = \"Weight ~ Height\")\n",
    "curve(model1$coefficients[2] * x + model1$coefficients[1], from=0, to=300, col = 'blue', lwd = 2, add = TRUE)"
   ]
  },
  {
   "cell_type": "markdown",
   "id": "fa2a6859",
   "metadata": {},
   "source": [
    "Our model for estimating weight looks pretty good, but there still seems to be a lot of noise in the data. \n",
    "\n",
    "We can also see from the output that our **R-squared is around 0.5**, which means there's room for improvement. Recall that the R-squared value is the proportion of variation in our data that is explained by our model."
   ]
  },
  {
   "cell_type": "markdown",
   "id": "ab65ca6b",
   "metadata": {},
   "source": [
    "### Multivariate Regression\n",
    "\n",
    "We want to see how multivariate regression can help us try (not necessarily succeed) to reduce omitted variable bias when we explore predictors of weight.  \n",
    "\n",
    "Run a regression of `Weight` against `Height` and `Waist`."
   ]
  },
  {
   "cell_type": "code",
   "execution_count": null,
   "id": "e85f14e9",
   "metadata": {},
   "outputs": [],
   "source": [
    "model2 = summary(...)\n",
    "model2"
   ]
  },
  {
   "cell_type": "markdown",
   "id": "4180983d",
   "metadata": {},
   "source": [
    "#### What would our equation to estimate `Weight` be with the additional variable?  "
   ]
  },
  {
   "cell_type": "markdown",
   "id": "efe00323",
   "metadata": {},
   "source": [
    "*Type your notes here*"
   ]
  },
  {
   "cell_type": "markdown",
   "id": "2c16ef6a",
   "metadata": {},
   "source": [
    "#### Now, provide an interpretation of the estimate for the `Height` term."
   ]
  },
  {
   "cell_type": "markdown",
   "id": "c4fe75a3",
   "metadata": {},
   "source": [
    "*Type your notes here*"
   ]
  },
  {
   "cell_type": "markdown",
   "id": "6a8c7f62",
   "metadata": {},
   "source": [
    "Notice how our R-squared for our new model has increased to about to about 0.88, meaning that more of the variation in the data is now explained by our model. "
   ]
  },
  {
   "cell_type": "code",
   "execution_count": null,
   "id": "df9aaeb4",
   "metadata": {},
   "outputs": [],
   "source": []
  }
 ],
 "metadata": {
  "kernelspec": {
   "display_name": "R",
   "language": "R",
   "name": "ir"
  },
  "language_info": {
   "codemirror_mode": "r",
   "file_extension": ".r",
   "mimetype": "text/x-r-source",
   "name": "R",
   "pygments_lexer": "r",
   "version": "4.2.1"
  }
 },
 "nbformat": 4,
 "nbformat_minor": 5
}
