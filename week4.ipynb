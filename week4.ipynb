{
 "cells": [
  {
   "cell_type": "markdown",
   "metadata": {},
   "source": [
    "# PS3 Discussion: Treatments and Experiments\n",
    "### Political Science 3 Discussion Week 3 - Clara Hu\n",
    "\n"
   ]
  },
  {
   "cell_type": "markdown",
   "metadata": {},
   "source": [
    "## Review: Logical (Boolean) Operators\n",
    "\n",
    "| R Code | Description | \n",
    "| -- |:-- |\n",
    "| x == y | does x EQUAL y?| \n",
    "| x != y | does x NOT EQUAL y? |\n",
    "| x < y | is x LESS THAN y? |\n",
    "| x > y | is x GREATER THAN y? |\n",
    "| x <= y | is x LESS THAN OR EQUAL TO y? |\n",
    "| x >= y | is x GREATER THAN OR EQUAL TO y? |\n",
    "\n",
    "We can use logical operators to compare values and get a binary:\n",
    "> TRUE (1)   \n",
    "> FALSE (0)\n",
    "\n",
    "We can use  comparisons with rows and values to find subsets of data; i.e. “Take only these rows when its value makes the condition TRUE.” \n",
    "\n",
    "But, what if there are multiple conditions?  \n",
    "\n",
    "To check multiple conditions, we used to have to do multiple subsets. Now, we can use combine comparisons using the logical operators `&` and `|`.\n",
    "\n",
    "| R Code | Description |\n",
    "| :-- |:-- | \n",
    "| x & y | x AND y - all conditions need to be true| \n",
    "| x \\| y | x OR y - only 1 condition needs to be true |\n",
    "\n",
    "\n"
   ]
  },
  {
   "cell_type": "markdown",
   "metadata": {},
   "source": [
    "### Quick Check\n",
    "\n",
    "What is the output of `TRUE | TRUE & FALSE`?\n",
    "\n",
    "What is the output of `0 + FALSE + TRUE`?\n",
    "\n",
    "What is the output of `1 & FALSE & TRUE`?"
   ]
  },
  {
   "cell_type": "code",
   "execution_count": null,
   "metadata": {},
   "outputs": [],
   "source": [
    "..."
   ]
  },
  {
   "cell_type": "markdown",
   "metadata": {},
   "source": [
    "Logical operators also follow an order of operations."
   ]
  },
  {
   "cell_type": "code",
   "execution_count": null,
   "metadata": {},
   "outputs": [],
   "source": [
    "TRUE | TRUE & FALSE\n",
    "(TRUE | TRUE) & FALSE"
   ]
  },
  {
   "cell_type": "markdown",
   "metadata": {},
   "source": [
    "## Example Experiment \n",
    "\n",
    "We will analyze some data from an experiment exploring the psychological phenomenon of \"anchoring.\" Anchoring is a cognitive bias whereby an individual's decisions are influenced by a particular reference point or anchor.\n",
    "\n",
    "In this case, students guessed the maximum speed of a house cat in miles per hour. In one condition, the \"high\" condition, students were prompted with the message \n",
    "\n",
    "> \"Is the maximum speed of an average house cat FASTER or SLOWER than **40** miles per hour?\"\n",
    "\n",
    "In the other condition, the \"low\" condition, students were prompted with\n",
    "\n",
    "> \"Is the maximum speed of an average house cat FASTER or SLOWER than **3** miles per hour?\"\n",
    "\n",
    "The student then had to provide an estimate for the speed of a house cat. We want to learn: did the anchoring have an effect on students' estimates? Let's assume that students were randomly assigned to each group.\n",
    "\n",
    "-------\n",
    "\n",
    "**Data Dictionary/Codebook**\n",
    "\n",
    "`cat`: estimated speed in mph\n",
    "\n",
    "`before`: 1 = student knew the exercise beforehand, 0 = student did not know\n",
    "\n",
    "`live.cats`: 1 = student lives with cats, 0 = student does not live with cats\n",
    "\n",
    "`cond`: 1 = student was exposed to the \"high\" condition (40 mph), 0 = student was exposed to the \"low\" condition (3 mph)"
   ]
  },
  {
   "cell_type": "code",
   "execution_count": null,
   "metadata": {},
   "outputs": [],
   "source": [
    "# Run this cell to read in the data.\n",
    "anchor <- read.csv(\"data/anchoring_data_FA20.csv\")\n",
    "head(anchor)"
   ]
  },
  {
   "cell_type": "markdown",
   "metadata": {},
   "source": [
    "### Discuss:\n",
    "\n",
    "What are the potential outcomes for this experiment? Talk with your neighbors for a few minutes about this.\n",
    "\n",
    "(**Note:** We do NOT necessarily have a control group in this study. In a perfect study, we would have ALSO asked a third group of people to answer the question \"What is the maximum speed of an average house cat\", without an anchor, but we don't have that data in this case.)"
   ]
  },
  {
   "cell_type": "markdown",
   "metadata": {},
   "source": [
    "*Type any notes here.*"
   ]
  },
  {
   "cell_type": "markdown",
   "metadata": {},
   "source": [
    "### Cleaning the Data\n",
    "\n",
    "Now, before we begin, let's \"clean\" the dataset. In this case, we want to remove some potentially problematic variables.  \n",
    "We do NOT want to study people who \n",
    "1. know about the goal of the experiment   \n",
    "or \n",
    "2. have lived with a cat, since they'll be more knowledgeable and have different answers.\n",
    "\n",
    "Subset the data so we only get rows in which (1) the participant has NOT lived with a cat, and (2) the participant was NOT aware of the experiment/exercise. Save this to the variable `focus_anchor`.\n",
    "\n",
    "Only use 1 line of code to do this - a hint is that you should use the & (and) or | (or) operators when you do the comparison."
   ]
  },
  {
   "cell_type": "code",
   "execution_count": null,
   "metadata": {},
   "outputs": [],
   "source": [
    "# Using two lines of code\n",
    "no_cat <- ...\n",
    "focus_anchor <- ...\n",
    "\n",
    "head(focus_anchor)"
   ]
  },
  {
   "cell_type": "markdown",
   "metadata": {},
   "source": [
    "Let's find the same subset using only 1 line of code"
   ]
  },
  {
   "cell_type": "code",
   "execution_count": null,
   "metadata": {},
   "outputs": [],
   "source": [
    "# Hint: use the & (and) or | (or) operator when doing the comparison\n",
    "subset(...)"
   ]
  },
  {
   "cell_type": "markdown",
   "metadata": {},
   "source": [
    "Now, let's compare the results of estimated speed between those who were exposed to the high condition and low condition!"
   ]
  },
  {
   "cell_type": "code",
   "execution_count": null,
   "metadata": {},
   "outputs": [],
   "source": [
    "# What am I doing in this code below? Explain to your neighbor. \n",
    "\n",
    "high_focus <- subset(focus_anchor, cond == 1)\n",
    "low_focus <- subset(focus_anchor, cond == 0)\n",
    "\n",
    "mean(high_focus$cat) # What does this number mean? What dodes it tell us about the potential outcome?\n",
    "mean(low_focus$cat) # and this one?\n",
    "mean(low_focus$cat) - mean(high_focus$cat) # How about this? \n",
    "\n",
    "# What condition is needed to make this step accurate?"
   ]
  },
  {
   "cell_type": "markdown",
   "metadata": {},
   "source": [
    "### Discuss:\n",
    "\n",
    "Name a potential omitted variable that can bias the results if treatment conditions are not randomly assigned. Discuss with your neighbor."
   ]
  },
  {
   "cell_type": "markdown",
   "metadata": {},
   "source": [
    "*Type any notes here*"
   ]
  },
  {
   "cell_type": "markdown",
   "metadata": {},
   "source": [
    "In experimental design, we usually want to **randomize** (i.e. randomly assign the treatment/control groups) to our participants. This ensures that the groups are equal, and that we don't have other factors, like selection bias or omitted variables, that could affect our analysis."
   ]
  },
  {
   "cell_type": "code",
   "execution_count": null,
   "metadata": {},
   "outputs": [],
   "source": []
  }
 ],
 "metadata": {
  "kernelspec": {
   "display_name": "R",
   "language": "R",
   "name": "ir"
  },
  "language_info": {
   "codemirror_mode": "r",
   "file_extension": ".r",
   "mimetype": "text/x-r-source",
   "name": "R",
   "pygments_lexer": "r",
   "version": "4.2.1"
  }
 },
 "nbformat": 4,
 "nbformat_minor": 4
}
