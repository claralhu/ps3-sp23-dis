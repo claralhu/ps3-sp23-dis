{
 "cells": [
  {
   "cell_type": "markdown",
   "metadata": {},
   "source": [
    "# Reviewing Tables in R\n",
    "## Political Science 3 Discussion Week 3 - Clara Hu\n",
    "\n",
    "Today, we will play around with data in R. We can work with data in tables."
   ]
  },
  {
   "cell_type": "markdown",
   "metadata": {},
   "source": [
    "### Coding in Style\n",
    "\n",
    "If you are interested in conventions that are often used in formatting R code (spacing, naming, etc.), and would like to make your code easier to read, check out the [tidyverse style guide](https://style.tidyverse.org/syntax.html). "
   ]
  },
  {
   "cell_type": "markdown",
   "metadata": {},
   "source": [
    "## Review of Extracting and Subsetting from Dataframes\n",
    "\n",
    "Remember that we can extract specific columns in a table using the `$` operator. We can also use the `subset` function to extract specific observations with values that satisfy a specific condition."
   ]
  },
  {
   "cell_type": "code",
   "execution_count": 1,
   "metadata": {},
   "outputs": [
    {
     "data": {
      "text/html": [
       "<table class=\"dataframe\">\n",
       "<caption>A data.frame: 6 × 8</caption>\n",
       "<thead>\n",
       "\t<tr><th></th><th scope=col>Sepal.Length</th><th scope=col>Sepal.Width</th><th scope=col>Petal.Length</th><th scope=col>Petal.Width</th><th scope=col>Species</th><th scope=col>setosa</th><th scope=col>versicolor</th><th scope=col>virginica</th></tr>\n",
       "\t<tr><th></th><th scope=col>&lt;dbl&gt;</th><th scope=col>&lt;dbl&gt;</th><th scope=col>&lt;dbl&gt;</th><th scope=col>&lt;dbl&gt;</th><th scope=col>&lt;fct&gt;</th><th scope=col>&lt;dbl&gt;</th><th scope=col>&lt;dbl&gt;</th><th scope=col>&lt;dbl&gt;</th></tr>\n",
       "</thead>\n",
       "<tbody>\n",
       "\t<tr><th scope=row>1</th><td>5.1</td><td>3.5</td><td>1.4</td><td>0.2</td><td>setosa</td><td>1</td><td>0</td><td>0</td></tr>\n",
       "\t<tr><th scope=row>2</th><td>4.9</td><td>3.0</td><td>1.4</td><td>0.2</td><td>setosa</td><td>1</td><td>0</td><td>0</td></tr>\n",
       "\t<tr><th scope=row>3</th><td>4.7</td><td>3.2</td><td>1.3</td><td>0.2</td><td>setosa</td><td>1</td><td>0</td><td>0</td></tr>\n",
       "\t<tr><th scope=row>4</th><td>4.6</td><td>3.1</td><td>1.5</td><td>0.2</td><td>setosa</td><td>1</td><td>0</td><td>0</td></tr>\n",
       "\t<tr><th scope=row>5</th><td>5.0</td><td>3.6</td><td>1.4</td><td>0.2</td><td>setosa</td><td>1</td><td>0</td><td>0</td></tr>\n",
       "\t<tr><th scope=row>6</th><td>5.4</td><td>3.9</td><td>1.7</td><td>0.4</td><td>setosa</td><td>1</td><td>0</td><td>0</td></tr>\n",
       "</tbody>\n",
       "</table>\n"
      ],
      "text/latex": [
       "A data.frame: 6 × 8\n",
       "\\begin{tabular}{r|llllllll}\n",
       "  & Sepal.Length & Sepal.Width & Petal.Length & Petal.Width & Species & setosa & versicolor & virginica\\\\\n",
       "  & <dbl> & <dbl> & <dbl> & <dbl> & <fct> & <dbl> & <dbl> & <dbl>\\\\\n",
       "\\hline\n",
       "\t1 & 5.1 & 3.5 & 1.4 & 0.2 & setosa & 1 & 0 & 0\\\\\n",
       "\t2 & 4.9 & 3.0 & 1.4 & 0.2 & setosa & 1 & 0 & 0\\\\\n",
       "\t3 & 4.7 & 3.2 & 1.3 & 0.2 & setosa & 1 & 0 & 0\\\\\n",
       "\t4 & 4.6 & 3.1 & 1.5 & 0.2 & setosa & 1 & 0 & 0\\\\\n",
       "\t5 & 5.0 & 3.6 & 1.4 & 0.2 & setosa & 1 & 0 & 0\\\\\n",
       "\t6 & 5.4 & 3.9 & 1.7 & 0.4 & setosa & 1 & 0 & 0\\\\\n",
       "\\end{tabular}\n"
      ],
      "text/markdown": [
       "\n",
       "A data.frame: 6 × 8\n",
       "\n",
       "| <!--/--> | Sepal.Length &lt;dbl&gt; | Sepal.Width &lt;dbl&gt; | Petal.Length &lt;dbl&gt; | Petal.Width &lt;dbl&gt; | Species &lt;fct&gt; | setosa &lt;dbl&gt; | versicolor &lt;dbl&gt; | virginica &lt;dbl&gt; |\n",
       "|---|---|---|---|---|---|---|---|---|\n",
       "| 1 | 5.1 | 3.5 | 1.4 | 0.2 | setosa | 1 | 0 | 0 |\n",
       "| 2 | 4.9 | 3.0 | 1.4 | 0.2 | setosa | 1 | 0 | 0 |\n",
       "| 3 | 4.7 | 3.2 | 1.3 | 0.2 | setosa | 1 | 0 | 0 |\n",
       "| 4 | 4.6 | 3.1 | 1.5 | 0.2 | setosa | 1 | 0 | 0 |\n",
       "| 5 | 5.0 | 3.6 | 1.4 | 0.2 | setosa | 1 | 0 | 0 |\n",
       "| 6 | 5.4 | 3.9 | 1.7 | 0.4 | setosa | 1 | 0 | 0 |\n",
       "\n"
      ],
      "text/plain": [
       "  Sepal.Length Sepal.Width Petal.Length Petal.Width Species setosa versicolor\n",
       "1 5.1          3.5         1.4          0.2         setosa  1      0         \n",
       "2 4.9          3.0         1.4          0.2         setosa  1      0         \n",
       "3 4.7          3.2         1.3          0.2         setosa  1      0         \n",
       "4 4.6          3.1         1.5          0.2         setosa  1      0         \n",
       "5 5.0          3.6         1.4          0.2         setosa  1      0         \n",
       "6 5.4          3.9         1.7          0.4         setosa  1      0         \n",
       "  virginica\n",
       "1 0        \n",
       "2 0        \n",
       "3 0        \n",
       "4 0        \n",
       "5 0        \n",
       "6 0        "
      ]
     },
     "metadata": {},
     "output_type": "display_data"
    }
   ],
   "source": [
    "# We'll be looking at data about Iris flowers \n",
    "# Run this cell! Ignore what I'm doing below. \n",
    "\n",
    "iris$setosa <- ifelse(iris$Species == \"setosa\", 1, 0) # Making dummy variables\n",
    "iris$versicolor <- ifelse(iris$Species == \"versicolor\", 1, 0)\n",
    "iris$virginica <- ifelse(iris$Species == \"virginica\", 1, 0)\n",
    "\n",
    "head(iris)"
   ]
  },
  {
   "cell_type": "code",
   "execution_count": 3,
   "metadata": {},
   "outputs": [
    {
     "data": {
      "text/html": [
       "<style>\n",
       ".list-inline {list-style: none; margin:0; padding: 0}\n",
       ".list-inline>li {display: inline-block}\n",
       ".list-inline>li:not(:last-child)::after {content: \"\\00b7\"; padding: 0 .5ex}\n",
       "</style>\n",
       "<ol class=list-inline><li>5.1</li><li>4.9</li><li>4.7</li><li>4.6</li><li>5</li><li>5.4</li><li>4.6</li><li>5</li><li>4.4</li><li>4.9</li></ol>\n"
      ],
      "text/latex": [
       "\\begin{enumerate*}\n",
       "\\item 5.1\n",
       "\\item 4.9\n",
       "\\item 4.7\n",
       "\\item 4.6\n",
       "\\item 5\n",
       "\\item 5.4\n",
       "\\item 4.6\n",
       "\\item 5\n",
       "\\item 4.4\n",
       "\\item 4.9\n",
       "\\end{enumerate*}\n"
      ],
      "text/markdown": [
       "1. 5.1\n",
       "2. 4.9\n",
       "3. 4.7\n",
       "4. 4.6\n",
       "5. 5\n",
       "6. 5.4\n",
       "7. 4.6\n",
       "8. 5\n",
       "9. 4.4\n",
       "10. 4.9\n",
       "\n",
       "\n"
      ],
      "text/plain": [
       " [1] 5.1 4.9 4.7 4.6 5.0 5.4 4.6 5.0 4.4 4.9"
      ]
     },
     "metadata": {},
     "output_type": "display_data"
    }
   ],
   "source": [
    "# Remember we can get values in a column by using $\n",
    "head(iris$Sepal.Length, 10) \n",
    "# I'm using the head function to only show the first few values\n",
    "# instead of all 150+"
   ]
  },
  {
   "cell_type": "code",
   "execution_count": 4,
   "metadata": {},
   "outputs": [
    {
     "data": {
      "text/html": [
       "4.35"
      ],
      "text/latex": [
       "4.35"
      ],
      "text/markdown": [
       "4.35"
      ],
      "text/plain": [
       "[1] 4.35"
      ]
     },
     "metadata": {},
     "output_type": "display_data"
    }
   ],
   "source": [
    "# Remember, we can also give things names and reference that name\n",
    "# For example -- what's the median petal length for all \n",
    "#flowers in the dataset?\n",
    "all_petal_lengths <- iris$Petal.Length\n",
    "median(all_petal_lengths)"
   ]
  },
  {
   "cell_type": "markdown",
   "metadata": {},
   "source": [
    "## Quick Check\n",
    "\n",
    "Using the dummy variable columns, find the proportion of flowers in the dataset that are either the species `Iris setosa` or `Iris versicolor`. Save that value as the name `s_v_prop`."
   ]
  },
  {
   "cell_type": "code",
   "execution_count": 5,
   "metadata": {},
   "outputs": [
    {
     "data": {
      "text/plain": [
       "   \n",
       "     0  1\n",
       "  0 50 50\n",
       "  1 50  0"
      ]
     },
     "metadata": {},
     "output_type": "display_data"
    }
   ],
   "source": [
    "table(iris$setosa, iris$versicolor)"
   ]
  },
  {
   "cell_type": "code",
   "execution_count": 10,
   "metadata": {},
   "outputs": [
    {
     "data": {
      "text/html": [
       "0.666666666666667"
      ],
      "text/latex": [
       "0.666666666666667"
      ],
      "text/markdown": [
       "0.666666666666667"
      ],
      "text/plain": [
       "[1] 0.6666667"
      ]
     },
     "metadata": {},
     "output_type": "display_data"
    }
   ],
   "source": [
    "# Use as many lines as you need!\n",
    "#prop iris setosa\n",
    "# mean(iris$setosa)\n",
    "# #prop iris versicolor\n",
    "# mean(iris$versicolor)\n",
    "s_v_prop <- mean(iris$setosa) + mean(iris$versicolor)\n",
    "s_v_prop # Tell R to print the value"
   ]
  },
  {
   "cell_type": "markdown",
   "metadata": {},
   "source": [
    "## Subsetting\n",
    "\n",
    "Let's focus on only the `Iris virginica` flowers in the dataset. We can do this by using the `subset` function, which takes the following arguments:\n",
    "\n",
    "`subset(table, column_logical)`\n",
    "\n",
    "A logical in R is the same thing as a Boolean in Python. In other words, it is a value (or set of values) that is either `TRUE` or `FALSE`. You can also think of them as 1 and 0.\n",
    "\n",
    "We can get these by doing something called a Boolean comparison, where we compare a value to another, and if that condition is True, it will return `TRUE`. Here are some common comparisons:\n",
    "\n",
    "| Logical Operator | R Code |\n",
    "| - | - |\n",
    "| does x equal y? | x == y |\n",
    "| does x NOT equal y? | x != y |\n",
    "| is x less than y? | x < y |\n",
    "| is x greater than y? | x > y |\n",
    "| is x less than or equal to y? | x <= y |\n",
    "| is x greater than or equal to y? | x >= y |\n"
   ]
  },
  {
   "cell_type": "code",
   "execution_count": 11,
   "metadata": {},
   "outputs": [
    {
     "data": {
      "text/html": [
       "FALSE"
      ],
      "text/latex": [
       "FALSE"
      ],
      "text/markdown": [
       "FALSE"
      ],
      "text/plain": [
       "[1] FALSE"
      ]
     },
     "metadata": {},
     "output_type": "display_data"
    },
    {
     "data": {
      "text/html": [
       "TRUE"
      ],
      "text/latex": [
       "TRUE"
      ],
      "text/markdown": [
       "TRUE"
      ],
      "text/plain": [
       "[1] TRUE"
      ]
     },
     "metadata": {},
     "output_type": "display_data"
    }
   ],
   "source": [
    "# Logical example in R\n",
    "x <- 5\n",
    "y <- 10\n",
    "\n",
    "x == y\n",
    "x < y"
   ]
  },
  {
   "cell_type": "code",
   "execution_count": 12,
   "metadata": {},
   "outputs": [
    {
     "data": {
      "text/html": [
       "<table class=\"dataframe\">\n",
       "<caption>A data.frame: 6 × 8</caption>\n",
       "<thead>\n",
       "\t<tr><th></th><th scope=col>Sepal.Length</th><th scope=col>Sepal.Width</th><th scope=col>Petal.Length</th><th scope=col>Petal.Width</th><th scope=col>Species</th><th scope=col>setosa</th><th scope=col>versicolor</th><th scope=col>virginica</th></tr>\n",
       "\t<tr><th></th><th scope=col>&lt;dbl&gt;</th><th scope=col>&lt;dbl&gt;</th><th scope=col>&lt;dbl&gt;</th><th scope=col>&lt;dbl&gt;</th><th scope=col>&lt;fct&gt;</th><th scope=col>&lt;dbl&gt;</th><th scope=col>&lt;dbl&gt;</th><th scope=col>&lt;dbl&gt;</th></tr>\n",
       "</thead>\n",
       "<tbody>\n",
       "\t<tr><th scope=row>101</th><td>6.3</td><td>3.3</td><td>6.0</td><td>2.5</td><td>virginica</td><td>0</td><td>0</td><td>1</td></tr>\n",
       "\t<tr><th scope=row>102</th><td>5.8</td><td>2.7</td><td>5.1</td><td>1.9</td><td>virginica</td><td>0</td><td>0</td><td>1</td></tr>\n",
       "\t<tr><th scope=row>103</th><td>7.1</td><td>3.0</td><td>5.9</td><td>2.1</td><td>virginica</td><td>0</td><td>0</td><td>1</td></tr>\n",
       "\t<tr><th scope=row>104</th><td>6.3</td><td>2.9</td><td>5.6</td><td>1.8</td><td>virginica</td><td>0</td><td>0</td><td>1</td></tr>\n",
       "\t<tr><th scope=row>105</th><td>6.5</td><td>3.0</td><td>5.8</td><td>2.2</td><td>virginica</td><td>0</td><td>0</td><td>1</td></tr>\n",
       "\t<tr><th scope=row>106</th><td>7.6</td><td>3.0</td><td>6.6</td><td>2.1</td><td>virginica</td><td>0</td><td>0</td><td>1</td></tr>\n",
       "</tbody>\n",
       "</table>\n"
      ],
      "text/latex": [
       "A data.frame: 6 × 8\n",
       "\\begin{tabular}{r|llllllll}\n",
       "  & Sepal.Length & Sepal.Width & Petal.Length & Petal.Width & Species & setosa & versicolor & virginica\\\\\n",
       "  & <dbl> & <dbl> & <dbl> & <dbl> & <fct> & <dbl> & <dbl> & <dbl>\\\\\n",
       "\\hline\n",
       "\t101 & 6.3 & 3.3 & 6.0 & 2.5 & virginica & 0 & 0 & 1\\\\\n",
       "\t102 & 5.8 & 2.7 & 5.1 & 1.9 & virginica & 0 & 0 & 1\\\\\n",
       "\t103 & 7.1 & 3.0 & 5.9 & 2.1 & virginica & 0 & 0 & 1\\\\\n",
       "\t104 & 6.3 & 2.9 & 5.6 & 1.8 & virginica & 0 & 0 & 1\\\\\n",
       "\t105 & 6.5 & 3.0 & 5.8 & 2.2 & virginica & 0 & 0 & 1\\\\\n",
       "\t106 & 7.6 & 3.0 & 6.6 & 2.1 & virginica & 0 & 0 & 1\\\\\n",
       "\\end{tabular}\n"
      ],
      "text/markdown": [
       "\n",
       "A data.frame: 6 × 8\n",
       "\n",
       "| <!--/--> | Sepal.Length &lt;dbl&gt; | Sepal.Width &lt;dbl&gt; | Petal.Length &lt;dbl&gt; | Petal.Width &lt;dbl&gt; | Species &lt;fct&gt; | setosa &lt;dbl&gt; | versicolor &lt;dbl&gt; | virginica &lt;dbl&gt; |\n",
       "|---|---|---|---|---|---|---|---|---|\n",
       "| 101 | 6.3 | 3.3 | 6.0 | 2.5 | virginica | 0 | 0 | 1 |\n",
       "| 102 | 5.8 | 2.7 | 5.1 | 1.9 | virginica | 0 | 0 | 1 |\n",
       "| 103 | 7.1 | 3.0 | 5.9 | 2.1 | virginica | 0 | 0 | 1 |\n",
       "| 104 | 6.3 | 2.9 | 5.6 | 1.8 | virginica | 0 | 0 | 1 |\n",
       "| 105 | 6.5 | 3.0 | 5.8 | 2.2 | virginica | 0 | 0 | 1 |\n",
       "| 106 | 7.6 | 3.0 | 6.6 | 2.1 | virginica | 0 | 0 | 1 |\n",
       "\n"
      ],
      "text/plain": [
       "    Sepal.Length Sepal.Width Petal.Length Petal.Width Species   setosa\n",
       "101 6.3          3.3         6.0          2.5         virginica 0     \n",
       "102 5.8          2.7         5.1          1.9         virginica 0     \n",
       "103 7.1          3.0         5.9          2.1         virginica 0     \n",
       "104 6.3          2.9         5.6          1.8         virginica 0     \n",
       "105 6.5          3.0         5.8          2.2         virginica 0     \n",
       "106 7.6          3.0         6.6          2.1         virginica 0     \n",
       "    versicolor virginica\n",
       "101 0          1        \n",
       "102 0          1        \n",
       "103 0          1        \n",
       "104 0          1        \n",
       "105 0          1        \n",
       "106 0          1        "
      ]
     },
     "metadata": {},
     "output_type": "display_data"
    }
   ],
   "source": [
    "# Let's practice using this to subset:\n",
    "# subset(table, column_name <comparison> <value>)\n",
    "virginica <- subset(iris, virginica == 1)\n",
    "head(virginica)"
   ]
  },
  {
   "cell_type": "code",
   "execution_count": 13,
   "metadata": {},
   "outputs": [
    {
     "data": {
      "text/html": [
       "<table class=\"dataframe\">\n",
       "<caption>A data.frame: 6 × 8</caption>\n",
       "<thead>\n",
       "\t<tr><th></th><th scope=col>Sepal.Length</th><th scope=col>Sepal.Width</th><th scope=col>Petal.Length</th><th scope=col>Petal.Width</th><th scope=col>Species</th><th scope=col>setosa</th><th scope=col>versicolor</th><th scope=col>virginica</th></tr>\n",
       "\t<tr><th></th><th scope=col>&lt;dbl&gt;</th><th scope=col>&lt;dbl&gt;</th><th scope=col>&lt;dbl&gt;</th><th scope=col>&lt;dbl&gt;</th><th scope=col>&lt;fct&gt;</th><th scope=col>&lt;dbl&gt;</th><th scope=col>&lt;dbl&gt;</th><th scope=col>&lt;dbl&gt;</th></tr>\n",
       "</thead>\n",
       "<tbody>\n",
       "\t<tr><th scope=row>101</th><td>6.3</td><td>3.3</td><td>6.0</td><td>2.5</td><td>virginica</td><td>0</td><td>0</td><td>1</td></tr>\n",
       "\t<tr><th scope=row>102</th><td>5.8</td><td>2.7</td><td>5.1</td><td>1.9</td><td>virginica</td><td>0</td><td>0</td><td>1</td></tr>\n",
       "\t<tr><th scope=row>103</th><td>7.1</td><td>3.0</td><td>5.9</td><td>2.1</td><td>virginica</td><td>0</td><td>0</td><td>1</td></tr>\n",
       "\t<tr><th scope=row>104</th><td>6.3</td><td>2.9</td><td>5.6</td><td>1.8</td><td>virginica</td><td>0</td><td>0</td><td>1</td></tr>\n",
       "\t<tr><th scope=row>105</th><td>6.5</td><td>3.0</td><td>5.8</td><td>2.2</td><td>virginica</td><td>0</td><td>0</td><td>1</td></tr>\n",
       "\t<tr><th scope=row>106</th><td>7.6</td><td>3.0</td><td>6.6</td><td>2.1</td><td>virginica</td><td>0</td><td>0</td><td>1</td></tr>\n",
       "</tbody>\n",
       "</table>\n"
      ],
      "text/latex": [
       "A data.frame: 6 × 8\n",
       "\\begin{tabular}{r|llllllll}\n",
       "  & Sepal.Length & Sepal.Width & Petal.Length & Petal.Width & Species & setosa & versicolor & virginica\\\\\n",
       "  & <dbl> & <dbl> & <dbl> & <dbl> & <fct> & <dbl> & <dbl> & <dbl>\\\\\n",
       "\\hline\n",
       "\t101 & 6.3 & 3.3 & 6.0 & 2.5 & virginica & 0 & 0 & 1\\\\\n",
       "\t102 & 5.8 & 2.7 & 5.1 & 1.9 & virginica & 0 & 0 & 1\\\\\n",
       "\t103 & 7.1 & 3.0 & 5.9 & 2.1 & virginica & 0 & 0 & 1\\\\\n",
       "\t104 & 6.3 & 2.9 & 5.6 & 1.8 & virginica & 0 & 0 & 1\\\\\n",
       "\t105 & 6.5 & 3.0 & 5.8 & 2.2 & virginica & 0 & 0 & 1\\\\\n",
       "\t106 & 7.6 & 3.0 & 6.6 & 2.1 & virginica & 0 & 0 & 1\\\\\n",
       "\\end{tabular}\n"
      ],
      "text/markdown": [
       "\n",
       "A data.frame: 6 × 8\n",
       "\n",
       "| <!--/--> | Sepal.Length &lt;dbl&gt; | Sepal.Width &lt;dbl&gt; | Petal.Length &lt;dbl&gt; | Petal.Width &lt;dbl&gt; | Species &lt;fct&gt; | setosa &lt;dbl&gt; | versicolor &lt;dbl&gt; | virginica &lt;dbl&gt; |\n",
       "|---|---|---|---|---|---|---|---|---|\n",
       "| 101 | 6.3 | 3.3 | 6.0 | 2.5 | virginica | 0 | 0 | 1 |\n",
       "| 102 | 5.8 | 2.7 | 5.1 | 1.9 | virginica | 0 | 0 | 1 |\n",
       "| 103 | 7.1 | 3.0 | 5.9 | 2.1 | virginica | 0 | 0 | 1 |\n",
       "| 104 | 6.3 | 2.9 | 5.6 | 1.8 | virginica | 0 | 0 | 1 |\n",
       "| 105 | 6.5 | 3.0 | 5.8 | 2.2 | virginica | 0 | 0 | 1 |\n",
       "| 106 | 7.6 | 3.0 | 6.6 | 2.1 | virginica | 0 | 0 | 1 |\n",
       "\n"
      ],
      "text/plain": [
       "    Sepal.Length Sepal.Width Petal.Length Petal.Width Species   setosa\n",
       "101 6.3          3.3         6.0          2.5         virginica 0     \n",
       "102 5.8          2.7         5.1          1.9         virginica 0     \n",
       "103 7.1          3.0         5.9          2.1         virginica 0     \n",
       "104 6.3          2.9         5.6          1.8         virginica 0     \n",
       "105 6.5          3.0         5.8          2.2         virginica 0     \n",
       "106 7.6          3.0         6.6          2.1         virginica 0     \n",
       "    versicolor virginica\n",
       "101 0          1        \n",
       "102 0          1        \n",
       "103 0          1        \n",
       "104 0          1        \n",
       "105 0          1        \n",
       "106 0          1        "
      ]
     },
     "metadata": {},
     "output_type": "display_data"
    }
   ],
   "source": [
    "# How can we get the virginica flowers using a different column?\n",
    "virginica2 <- subset(iris, Species == \"virginica\")\n",
    "head(virginica2)"
   ]
  },
  {
   "cell_type": "markdown",
   "metadata": {},
   "source": [
    "## Subset of a subset\n",
    "\n",
    "Using the `subset` function and some other R code, create a table that only has rows of Iris setosa flowers that have a sepal length smaller than the mean sepal length of ALL virginica flowers. Call this new table `small_setosas`.\n",
    "\n",
    "*Hint:* You should use the `virginica` table to help find the mean sepal length of Iris virginica flowers."
   ]
  },
  {
   "cell_type": "code",
   "execution_count": 20,
   "metadata": {},
   "outputs": [
    {
     "data": {
      "text/html": [
       "<table class=\"dataframe\">\n",
       "<caption>A data.frame: 6 × 8</caption>\n",
       "<thead>\n",
       "\t<tr><th></th><th scope=col>Sepal.Length</th><th scope=col>Sepal.Width</th><th scope=col>Petal.Length</th><th scope=col>Petal.Width</th><th scope=col>Species</th><th scope=col>setosa</th><th scope=col>versicolor</th><th scope=col>virginica</th></tr>\n",
       "\t<tr><th></th><th scope=col>&lt;dbl&gt;</th><th scope=col>&lt;dbl&gt;</th><th scope=col>&lt;dbl&gt;</th><th scope=col>&lt;dbl&gt;</th><th scope=col>&lt;fct&gt;</th><th scope=col>&lt;dbl&gt;</th><th scope=col>&lt;dbl&gt;</th><th scope=col>&lt;dbl&gt;</th></tr>\n",
       "</thead>\n",
       "<tbody>\n",
       "\t<tr><th scope=row>1</th><td>5.1</td><td>3.5</td><td>1.4</td><td>0.2</td><td>setosa</td><td>1</td><td>0</td><td>0</td></tr>\n",
       "\t<tr><th scope=row>2</th><td>4.9</td><td>3.0</td><td>1.4</td><td>0.2</td><td>setosa</td><td>1</td><td>0</td><td>0</td></tr>\n",
       "\t<tr><th scope=row>3</th><td>4.7</td><td>3.2</td><td>1.3</td><td>0.2</td><td>setosa</td><td>1</td><td>0</td><td>0</td></tr>\n",
       "\t<tr><th scope=row>4</th><td>4.6</td><td>3.1</td><td>1.5</td><td>0.2</td><td>setosa</td><td>1</td><td>0</td><td>0</td></tr>\n",
       "\t<tr><th scope=row>5</th><td>5.0</td><td>3.6</td><td>1.4</td><td>0.2</td><td>setosa</td><td>1</td><td>0</td><td>0</td></tr>\n",
       "\t<tr><th scope=row>6</th><td>5.4</td><td>3.9</td><td>1.7</td><td>0.4</td><td>setosa</td><td>1</td><td>0</td><td>0</td></tr>\n",
       "</tbody>\n",
       "</table>\n"
      ],
      "text/latex": [
       "A data.frame: 6 × 8\n",
       "\\begin{tabular}{r|llllllll}\n",
       "  & Sepal.Length & Sepal.Width & Petal.Length & Petal.Width & Species & setosa & versicolor & virginica\\\\\n",
       "  & <dbl> & <dbl> & <dbl> & <dbl> & <fct> & <dbl> & <dbl> & <dbl>\\\\\n",
       "\\hline\n",
       "\t1 & 5.1 & 3.5 & 1.4 & 0.2 & setosa & 1 & 0 & 0\\\\\n",
       "\t2 & 4.9 & 3.0 & 1.4 & 0.2 & setosa & 1 & 0 & 0\\\\\n",
       "\t3 & 4.7 & 3.2 & 1.3 & 0.2 & setosa & 1 & 0 & 0\\\\\n",
       "\t4 & 4.6 & 3.1 & 1.5 & 0.2 & setosa & 1 & 0 & 0\\\\\n",
       "\t5 & 5.0 & 3.6 & 1.4 & 0.2 & setosa & 1 & 0 & 0\\\\\n",
       "\t6 & 5.4 & 3.9 & 1.7 & 0.4 & setosa & 1 & 0 & 0\\\\\n",
       "\\end{tabular}\n"
      ],
      "text/markdown": [
       "\n",
       "A data.frame: 6 × 8\n",
       "\n",
       "| <!--/--> | Sepal.Length &lt;dbl&gt; | Sepal.Width &lt;dbl&gt; | Petal.Length &lt;dbl&gt; | Petal.Width &lt;dbl&gt; | Species &lt;fct&gt; | setosa &lt;dbl&gt; | versicolor &lt;dbl&gt; | virginica &lt;dbl&gt; |\n",
       "|---|---|---|---|---|---|---|---|---|\n",
       "| 1 | 5.1 | 3.5 | 1.4 | 0.2 | setosa | 1 | 0 | 0 |\n",
       "| 2 | 4.9 | 3.0 | 1.4 | 0.2 | setosa | 1 | 0 | 0 |\n",
       "| 3 | 4.7 | 3.2 | 1.3 | 0.2 | setosa | 1 | 0 | 0 |\n",
       "| 4 | 4.6 | 3.1 | 1.5 | 0.2 | setosa | 1 | 0 | 0 |\n",
       "| 5 | 5.0 | 3.6 | 1.4 | 0.2 | setosa | 1 | 0 | 0 |\n",
       "| 6 | 5.4 | 3.9 | 1.7 | 0.4 | setosa | 1 | 0 | 0 |\n",
       "\n"
      ],
      "text/plain": [
       "  Sepal.Length Sepal.Width Petal.Length Petal.Width Species setosa versicolor\n",
       "1 5.1          3.5         1.4          0.2         setosa  1      0         \n",
       "2 4.9          3.0         1.4          0.2         setosa  1      0         \n",
       "3 4.7          3.2         1.3          0.2         setosa  1      0         \n",
       "4 4.6          3.1         1.5          0.2         setosa  1      0         \n",
       "5 5.0          3.6         1.4          0.2         setosa  1      0         \n",
       "6 5.4          3.9         1.7          0.4         setosa  1      0         \n",
       "  virginica\n",
       "1 0        \n",
       "2 0        \n",
       "3 0        \n",
       "4 0        \n",
       "5 0        \n",
       "6 0        "
      ]
     },
     "metadata": {},
     "output_type": "display_data"
    }
   ],
   "source": [
    "avg_virginica_sepal_length <- mean(virginica$Sepal.Length)\n",
    "setosa <- subset(iris, Species == \"setosa\")\n",
    "small_setosas <- subset(setosa, \n",
    "                        avg_virginica_sepal_length > Sepal.Length)\n",
    "\n",
    "head(small_setosas)"
   ]
  },
  {
   "cell_type": "code",
   "execution_count": 21,
   "metadata": {},
   "outputs": [
    {
     "data": {
      "text/html": [
       "6.588"
      ],
      "text/latex": [
       "6.588"
      ],
      "text/markdown": [
       "6.588"
      ],
      "text/plain": [
       "[1] 6.588"
      ]
     },
     "metadata": {},
     "output_type": "display_data"
    }
   ],
   "source": [
    "avg_virginica_sepal_length "
   ]
  },
  {
   "cell_type": "markdown",
   "metadata": {},
   "source": [
    "## One-way and Two-way Tables\n",
    "\n",
    "We can use the `table` function to create one and two way tables. One and two way tables are used to summarize the counts of each category in a table. To use the `table` function, just plug in the column that we want to check.\n",
    "\n",
    "| One way | Two way |\n",
    "| - | - | \n",
    "| table(data\\$var1) | table(data\\\\$var1, data\\$var2) |"
   ]
  },
  {
   "cell_type": "code",
   "execution_count": 22,
   "metadata": {},
   "outputs": [
    {
     "data": {
      "text/plain": [
       "\n",
       "    setosa versicolor  virginica \n",
       "        50         50         50 "
      ]
     },
     "metadata": {},
     "output_type": "display_data"
    }
   ],
   "source": [
    "# Creating a one-way table\n",
    "# Let's see how many flowers are in each Species category!\n",
    "table(iris$Species)"
   ]
  },
  {
   "cell_type": "code",
   "execution_count": 23,
   "metadata": {},
   "outputs": [
    {
     "data": {
      "text/html": [
       "<table class=\"dataframe\">\n",
       "<caption>A data.frame: 6 × 8</caption>\n",
       "<thead>\n",
       "\t<tr><th></th><th scope=col>Sepal.Length</th><th scope=col>Sepal.Width</th><th scope=col>Petal.Length</th><th scope=col>Petal.Width</th><th scope=col>Species</th><th scope=col>setosa</th><th scope=col>versicolor</th><th scope=col>virginica</th></tr>\n",
       "\t<tr><th></th><th scope=col>&lt;dbl&gt;</th><th scope=col>&lt;dbl&gt;</th><th scope=col>&lt;dbl&gt;</th><th scope=col>&lt;dbl&gt;</th><th scope=col>&lt;fct&gt;</th><th scope=col>&lt;dbl&gt;</th><th scope=col>&lt;dbl&gt;</th><th scope=col>&lt;dbl&gt;</th></tr>\n",
       "</thead>\n",
       "<tbody>\n",
       "\t<tr><th scope=row>1</th><td>5.1</td><td>3.5</td><td>1.4</td><td>0.2</td><td>setosa</td><td>1</td><td>0</td><td>0</td></tr>\n",
       "\t<tr><th scope=row>2</th><td>4.9</td><td>3.0</td><td>1.4</td><td>0.2</td><td>setosa</td><td>1</td><td>0</td><td>0</td></tr>\n",
       "\t<tr><th scope=row>3</th><td>4.7</td><td>3.2</td><td>1.3</td><td>0.2</td><td>setosa</td><td>1</td><td>0</td><td>0</td></tr>\n",
       "\t<tr><th scope=row>4</th><td>4.6</td><td>3.1</td><td>1.5</td><td>0.2</td><td>setosa</td><td>1</td><td>0</td><td>0</td></tr>\n",
       "\t<tr><th scope=row>5</th><td>5.0</td><td>3.6</td><td>1.4</td><td>0.2</td><td>setosa</td><td>1</td><td>0</td><td>0</td></tr>\n",
       "\t<tr><th scope=row>6</th><td>5.4</td><td>3.9</td><td>1.7</td><td>0.4</td><td>setosa</td><td>1</td><td>0</td><td>0</td></tr>\n",
       "</tbody>\n",
       "</table>\n"
      ],
      "text/latex": [
       "A data.frame: 6 × 8\n",
       "\\begin{tabular}{r|llllllll}\n",
       "  & Sepal.Length & Sepal.Width & Petal.Length & Petal.Width & Species & setosa & versicolor & virginica\\\\\n",
       "  & <dbl> & <dbl> & <dbl> & <dbl> & <fct> & <dbl> & <dbl> & <dbl>\\\\\n",
       "\\hline\n",
       "\t1 & 5.1 & 3.5 & 1.4 & 0.2 & setosa & 1 & 0 & 0\\\\\n",
       "\t2 & 4.9 & 3.0 & 1.4 & 0.2 & setosa & 1 & 0 & 0\\\\\n",
       "\t3 & 4.7 & 3.2 & 1.3 & 0.2 & setosa & 1 & 0 & 0\\\\\n",
       "\t4 & 4.6 & 3.1 & 1.5 & 0.2 & setosa & 1 & 0 & 0\\\\\n",
       "\t5 & 5.0 & 3.6 & 1.4 & 0.2 & setosa & 1 & 0 & 0\\\\\n",
       "\t6 & 5.4 & 3.9 & 1.7 & 0.4 & setosa & 1 & 0 & 0\\\\\n",
       "\\end{tabular}\n"
      ],
      "text/markdown": [
       "\n",
       "A data.frame: 6 × 8\n",
       "\n",
       "| <!--/--> | Sepal.Length &lt;dbl&gt; | Sepal.Width &lt;dbl&gt; | Petal.Length &lt;dbl&gt; | Petal.Width &lt;dbl&gt; | Species &lt;fct&gt; | setosa &lt;dbl&gt; | versicolor &lt;dbl&gt; | virginica &lt;dbl&gt; |\n",
       "|---|---|---|---|---|---|---|---|---|\n",
       "| 1 | 5.1 | 3.5 | 1.4 | 0.2 | setosa | 1 | 0 | 0 |\n",
       "| 2 | 4.9 | 3.0 | 1.4 | 0.2 | setosa | 1 | 0 | 0 |\n",
       "| 3 | 4.7 | 3.2 | 1.3 | 0.2 | setosa | 1 | 0 | 0 |\n",
       "| 4 | 4.6 | 3.1 | 1.5 | 0.2 | setosa | 1 | 0 | 0 |\n",
       "| 5 | 5.0 | 3.6 | 1.4 | 0.2 | setosa | 1 | 0 | 0 |\n",
       "| 6 | 5.4 | 3.9 | 1.7 | 0.4 | setosa | 1 | 0 | 0 |\n",
       "\n"
      ],
      "text/plain": [
       "  Sepal.Length Sepal.Width Petal.Length Petal.Width Species setosa versicolor\n",
       "1 5.1          3.5         1.4          0.2         setosa  1      0         \n",
       "2 4.9          3.0         1.4          0.2         setosa  1      0         \n",
       "3 4.7          3.2         1.3          0.2         setosa  1      0         \n",
       "4 4.6          3.1         1.5          0.2         setosa  1      0         \n",
       "5 5.0          3.6         1.4          0.2         setosa  1      0         \n",
       "6 5.4          3.9         1.7          0.4         setosa  1      0         \n",
       "  virginica\n",
       "1 0        \n",
       "2 0        \n",
       "3 0        \n",
       "4 0        \n",
       "5 0        \n",
       "6 0        "
      ]
     },
     "metadata": {},
     "output_type": "display_data"
    }
   ],
   "source": [
    "head(iris)"
   ]
  },
  {
   "cell_type": "markdown",
   "metadata": {},
   "source": [
    "**Is creating a two-way table useful for the `iris` dataset?**  \n",
    "\n",
    "Two way tables are created to summarize counts between two categorical variables.   \n",
    "Let's create another dataframe called `iris2` with all of the original `iris` data along with a new variable `long_petal` that categorizes the observations based on petal length."
   ]
  },
  {
   "cell_type": "code",
   "execution_count": 24,
   "metadata": {},
   "outputs": [
    {
     "data": {
      "text/html": [
       "<table class=\"dataframe\">\n",
       "<caption>A data.frame: 6 × 9</caption>\n",
       "<thead>\n",
       "\t<tr><th></th><th scope=col>Sepal.Length</th><th scope=col>Sepal.Width</th><th scope=col>Petal.Length</th><th scope=col>Petal.Width</th><th scope=col>Species</th><th scope=col>setosa</th><th scope=col>versicolor</th><th scope=col>virginica</th><th scope=col>long_petal</th></tr>\n",
       "\t<tr><th></th><th scope=col>&lt;dbl&gt;</th><th scope=col>&lt;dbl&gt;</th><th scope=col>&lt;dbl&gt;</th><th scope=col>&lt;dbl&gt;</th><th scope=col>&lt;fct&gt;</th><th scope=col>&lt;dbl&gt;</th><th scope=col>&lt;dbl&gt;</th><th scope=col>&lt;dbl&gt;</th><th scope=col>&lt;chr&gt;</th></tr>\n",
       "</thead>\n",
       "<tbody>\n",
       "\t<tr><th scope=row>1</th><td>5.1</td><td>3.5</td><td>1.4</td><td>0.2</td><td>setosa</td><td>1</td><td>0</td><td>0</td><td>short </td></tr>\n",
       "\t<tr><th scope=row>2</th><td>4.9</td><td>3.0</td><td>1.4</td><td>0.2</td><td>setosa</td><td>1</td><td>0</td><td>0</td><td>short </td></tr>\n",
       "\t<tr><th scope=row>3</th><td>4.7</td><td>3.2</td><td>1.3</td><td>0.2</td><td>setosa</td><td>1</td><td>0</td><td>0</td><td>short </td></tr>\n",
       "\t<tr><th scope=row>4</th><td>4.6</td><td>3.1</td><td>1.5</td><td>0.2</td><td>setosa</td><td>1</td><td>0</td><td>0</td><td>short </td></tr>\n",
       "\t<tr><th scope=row>5</th><td>5.0</td><td>3.6</td><td>1.4</td><td>0.2</td><td>setosa</td><td>1</td><td>0</td><td>0</td><td>short </td></tr>\n",
       "\t<tr><th scope=row>6</th><td>5.4</td><td>3.9</td><td>1.7</td><td>0.4</td><td>setosa</td><td>1</td><td>0</td><td>0</td><td>medium</td></tr>\n",
       "</tbody>\n",
       "</table>\n"
      ],
      "text/latex": [
       "A data.frame: 6 × 9\n",
       "\\begin{tabular}{r|lllllllll}\n",
       "  & Sepal.Length & Sepal.Width & Petal.Length & Petal.Width & Species & setosa & versicolor & virginica & long\\_petal\\\\\n",
       "  & <dbl> & <dbl> & <dbl> & <dbl> & <fct> & <dbl> & <dbl> & <dbl> & <chr>\\\\\n",
       "\\hline\n",
       "\t1 & 5.1 & 3.5 & 1.4 & 0.2 & setosa & 1 & 0 & 0 & short \\\\\n",
       "\t2 & 4.9 & 3.0 & 1.4 & 0.2 & setosa & 1 & 0 & 0 & short \\\\\n",
       "\t3 & 4.7 & 3.2 & 1.3 & 0.2 & setosa & 1 & 0 & 0 & short \\\\\n",
       "\t4 & 4.6 & 3.1 & 1.5 & 0.2 & setosa & 1 & 0 & 0 & short \\\\\n",
       "\t5 & 5.0 & 3.6 & 1.4 & 0.2 & setosa & 1 & 0 & 0 & short \\\\\n",
       "\t6 & 5.4 & 3.9 & 1.7 & 0.4 & setosa & 1 & 0 & 0 & medium\\\\\n",
       "\\end{tabular}\n"
      ],
      "text/markdown": [
       "\n",
       "A data.frame: 6 × 9\n",
       "\n",
       "| <!--/--> | Sepal.Length &lt;dbl&gt; | Sepal.Width &lt;dbl&gt; | Petal.Length &lt;dbl&gt; | Petal.Width &lt;dbl&gt; | Species &lt;fct&gt; | setosa &lt;dbl&gt; | versicolor &lt;dbl&gt; | virginica &lt;dbl&gt; | long_petal &lt;chr&gt; |\n",
       "|---|---|---|---|---|---|---|---|---|---|\n",
       "| 1 | 5.1 | 3.5 | 1.4 | 0.2 | setosa | 1 | 0 | 0 | short  |\n",
       "| 2 | 4.9 | 3.0 | 1.4 | 0.2 | setosa | 1 | 0 | 0 | short  |\n",
       "| 3 | 4.7 | 3.2 | 1.3 | 0.2 | setosa | 1 | 0 | 0 | short  |\n",
       "| 4 | 4.6 | 3.1 | 1.5 | 0.2 | setosa | 1 | 0 | 0 | short  |\n",
       "| 5 | 5.0 | 3.6 | 1.4 | 0.2 | setosa | 1 | 0 | 0 | short  |\n",
       "| 6 | 5.4 | 3.9 | 1.7 | 0.4 | setosa | 1 | 0 | 0 | medium |\n",
       "\n"
      ],
      "text/plain": [
       "  Sepal.Length Sepal.Width Petal.Length Petal.Width Species setosa versicolor\n",
       "1 5.1          3.5         1.4          0.2         setosa  1      0         \n",
       "2 4.9          3.0         1.4          0.2         setosa  1      0         \n",
       "3 4.7          3.2         1.3          0.2         setosa  1      0         \n",
       "4 4.6          3.1         1.5          0.2         setosa  1      0         \n",
       "5 5.0          3.6         1.4          0.2         setosa  1      0         \n",
       "6 5.4          3.9         1.7          0.4         setosa  1      0         \n",
       "  virginica long_petal\n",
       "1 0         short     \n",
       "2 0         short     \n",
       "3 0         short     \n",
       "4 0         short     \n",
       "5 0         short     \n",
       "6 0         medium    "
      ]
     },
     "metadata": {},
     "output_type": "display_data"
    }
   ],
   "source": [
    "# Adding a categorical variable\n",
    "# Run this cell! Ignore what I'm doing below. \n",
    "iris2 <- iris\n",
    "iris2$long_petal <- 'medium'\n",
    "iris2$long_petal[iris$Petal.Length > quantile(iris$Petal.Length, 0.75)] <- 'long'\n",
    "iris2$long_petal[iris$Petal.Length < quantile(iris$Petal.Length, 0.25)] <- 'short'\n",
    "head(iris2)"
   ]
  },
  {
   "cell_type": "code",
   "execution_count": 25,
   "metadata": {},
   "outputs": [
    {
     "data": {
      "text/plain": [
       "            \n",
       "             long medium short\n",
       "  setosa        0     13    37\n",
       "  versicolor    0     50     0\n",
       "  virginica    34     16     0"
      ]
     },
     "metadata": {},
     "output_type": "display_data"
    }
   ],
   "source": [
    "# Creating a two-way table\n",
    "# Let's see how many of each species (rows) \n",
    "#have short, medium, or long petals (columns)!\n",
    "table(iris2$Species, iris2$long_petal)"
   ]
  },
  {
   "cell_type": "markdown",
   "metadata": {},
   "source": [
    "## Correlation vs Causality\n",
    "\n",
    "It's important to distinguish between correlation and causality. Correlation means that two variables are linearly related without making a statement about cause and effect. By contrast, causality describes a relationship where one event or process causes an effect on the other event or process."
   ]
  },
  {
   "cell_type": "markdown",
   "metadata": {},
   "source": [
    "Sometimes, “A correlates with B” ≠ “A causes B”.\n"
   ]
  },
  {
   "cell_type": "markdown",
   "metadata": {},
   "source": [
    "This may be due to: \n",
    "\n",
    "1. **Reverse causality** (the possibility that B actually causes A)  \n",
    "2. **Omitted variable bias** (a 3rd variable `C` causes both `A` and `B`. Note that `C` does not need to be a variable in the given dataset)."
   ]
  },
  {
   "cell_type": "markdown",
   "metadata": {},
   "source": [
    "## Spurious correlation\n",
    "\n",
    "Two or more events or variables are mathematically associated but not causally related, due to coincidence, or the presence of a certain third, unseen factor (i.e., **confounding factor**), or it can just happen without any confounding variables."
   ]
  },
  {
   "cell_type": "markdown",
   "metadata": {},
   "source": [
    "Let's see some online examples here: [https://www.tylervigen.com/spurious-correlations](https://www.tylervigen.com/spurious-correlations). "
   ]
  }
 ],
 "metadata": {
  "kernelspec": {
   "display_name": "R",
   "language": "R",
   "name": "ir"
  },
  "language_info": {
   "codemirror_mode": "r",
   "file_extension": ".r",
   "mimetype": "text/x-r-source",
   "name": "R",
   "pygments_lexer": "r",
   "version": "4.2.1"
  }
 },
 "nbformat": 4,
 "nbformat_minor": 4
}
