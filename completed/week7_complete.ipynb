{
 "cells": [
  {
   "cell_type": "markdown",
   "metadata": {},
   "source": [
    "## PS3 Discussion: Statistical Significance \n",
    "\n",
    "### PS 3 Week 7 Discussion - Clara Hu\n",
    "\n",
    "Today, we're going reinforce our understanding of uncertainty and statistical significance.\n",
    "_______"
   ]
  },
  {
   "cell_type": "markdown",
   "metadata": {},
   "source": [
    "Let's take a look at an experiment where students in a large course were randomly assigned to attend section. \n",
    "\n",
    "Our dataset shows a hypothetical scenario in which we can observe *both* the potential outcome under **treatment** (randomly assigned to attend section) and potential outcome under **control** (randomly assigned to not attend section)."
   ]
  },
  {
   "cell_type": "code",
   "execution_count": 1,
   "metadata": {
    "scrolled": false
   },
   "outputs": [
    {
     "data": {
      "text/html": [
       "<table class=\"dataframe\">\n",
       "<caption>A data.frame: 6 × 4</caption>\n",
       "<thead>\n",
       "\t<tr><th></th><th scope=col>X</th><th scope=col>ID</th><th scope=col>po_treatment</th><th scope=col>po_control</th></tr>\n",
       "\t<tr><th></th><th scope=col>&lt;int&gt;</th><th scope=col>&lt;int&gt;</th><th scope=col>&lt;dbl&gt;</th><th scope=col>&lt;dbl&gt;</th></tr>\n",
       "</thead>\n",
       "<tbody>\n",
       "\t<tr><th scope=row>1</th><td>1</td><td>1</td><td>99.17134</td><td>19.912313</td></tr>\n",
       "\t<tr><th scope=row>2</th><td>2</td><td>2</td><td>86.76851</td><td>37.099465</td></tr>\n",
       "\t<tr><th scope=row>3</th><td>3</td><td>3</td><td>96.41369</td><td> 6.657836</td></tr>\n",
       "\t<tr><th scope=row>4</th><td>4</td><td>4</td><td>73.71043</td><td>24.788116</td></tr>\n",
       "\t<tr><th scope=row>5</th><td>5</td><td>5</td><td>99.60116</td><td>43.462295</td></tr>\n",
       "\t<tr><th scope=row>6</th><td>6</td><td>6</td><td>86.50073</td><td>41.477766</td></tr>\n",
       "</tbody>\n",
       "</table>\n"
      ],
      "text/latex": [
       "A data.frame: 6 × 4\n",
       "\\begin{tabular}{r|llll}\n",
       "  & X & ID & po\\_treatment & po\\_control\\\\\n",
       "  & <int> & <int> & <dbl> & <dbl>\\\\\n",
       "\\hline\n",
       "\t1 & 1 & 1 & 99.17134 & 19.912313\\\\\n",
       "\t2 & 2 & 2 & 86.76851 & 37.099465\\\\\n",
       "\t3 & 3 & 3 & 96.41369 &  6.657836\\\\\n",
       "\t4 & 4 & 4 & 73.71043 & 24.788116\\\\\n",
       "\t5 & 5 & 5 & 99.60116 & 43.462295\\\\\n",
       "\t6 & 6 & 6 & 86.50073 & 41.477766\\\\\n",
       "\\end{tabular}\n"
      ],
      "text/markdown": [
       "\n",
       "A data.frame: 6 × 4\n",
       "\n",
       "| <!--/--> | X &lt;int&gt; | ID &lt;int&gt; | po_treatment &lt;dbl&gt; | po_control &lt;dbl&gt; |\n",
       "|---|---|---|---|---|\n",
       "| 1 | 1 | 1 | 99.17134 | 19.912313 |\n",
       "| 2 | 2 | 2 | 86.76851 | 37.099465 |\n",
       "| 3 | 3 | 3 | 96.41369 |  6.657836 |\n",
       "| 4 | 4 | 4 | 73.71043 | 24.788116 |\n",
       "| 5 | 5 | 5 | 99.60116 | 43.462295 |\n",
       "| 6 | 6 | 6 | 86.50073 | 41.477766 |\n",
       "\n"
      ],
      "text/plain": [
       "  X ID po_treatment po_control\n",
       "1 1 1  99.17134     19.912313 \n",
       "2 2 2  86.76851     37.099465 \n",
       "3 3 3  96.41369      6.657836 \n",
       "4 4 4  73.71043     24.788116 \n",
       "5 5 5  99.60116     43.462295 \n",
       "6 6 6  86.50073     41.477766 "
      ]
     },
     "metadata": {},
     "output_type": "display_data"
    }
   ],
   "source": [
    "section_experiment <- read.csv(\"data/section_attd_experiment.csv\")\n",
    "head(section_experiment)"
   ]
  },
  {
   "cell_type": "markdown",
   "metadata": {},
   "source": [
    "In reality, we can't observe both the potential outcome under treatment and the potential outcome under control. That's why running *randomized* experiments are important. \n",
    "\n",
    "In this case, we are running an experiment to find out if attending section has an effect on coure grades."
   ]
  },
  {
   "cell_type": "markdown",
   "metadata": {},
   "source": [
    "### Creating Hypotheses\n",
    "\n",
    "1. Null Hypothesis: ...\n",
    "2. Alternative Hypothesis: ..."
   ]
  },
  {
   "cell_type": "markdown",
   "metadata": {},
   "source": [
    "### Sampling"
   ]
  },
  {
   "cell_type": "markdown",
   "metadata": {},
   "source": [
    "In the cell below, we randomly sample 300 people and randomly assign 150 to attend section and 150 to not attend section. This runs our experiment using one sample."
   ]
  },
  {
   "cell_type": "code",
   "execution_count": 2,
   "metadata": {
    "scrolled": false
   },
   "outputs": [
    {
     "data": {
      "text/html": [
       "<table class=\"dataframe\">\n",
       "<caption>A data.frame: 6 × 4</caption>\n",
       "<thead>\n",
       "\t<tr><th></th><th scope=col>X</th><th scope=col>ID</th><th scope=col>assignment</th><th scope=col>po_observed</th></tr>\n",
       "\t<tr><th></th><th scope=col>&lt;int&gt;</th><th scope=col>&lt;int&gt;</th><th scope=col>&lt;chr&gt;</th><th scope=col>&lt;dbl&gt;</th></tr>\n",
       "</thead>\n",
       "<tbody>\n",
       "\t<tr><th scope=row>1</th><td>1</td><td>1</td><td>section  </td><td>99.171337</td></tr>\n",
       "\t<tr><th scope=row>2</th><td>2</td><td>2</td><td>section  </td><td>86.768511</td></tr>\n",
       "\t<tr><th scope=row>3</th><td>3</td><td>3</td><td>nosection</td><td> 6.657836</td></tr>\n",
       "\t<tr><th scope=row>4</th><td>4</td><td>4</td><td>nosection</td><td>24.788116</td></tr>\n",
       "\t<tr><th scope=row>5</th><td>5</td><td>5</td><td>nosection</td><td>43.462295</td></tr>\n",
       "\t<tr><th scope=row>6</th><td>6</td><td>6</td><td>section  </td><td>86.500726</td></tr>\n",
       "</tbody>\n",
       "</table>\n"
      ],
      "text/latex": [
       "A data.frame: 6 × 4\n",
       "\\begin{tabular}{r|llll}\n",
       "  & X & ID & assignment & po\\_observed\\\\\n",
       "  & <int> & <int> & <chr> & <dbl>\\\\\n",
       "\\hline\n",
       "\t1 & 1 & 1 & section   & 99.171337\\\\\n",
       "\t2 & 2 & 2 & section   & 86.768511\\\\\n",
       "\t3 & 3 & 3 & nosection &  6.657836\\\\\n",
       "\t4 & 4 & 4 & nosection & 24.788116\\\\\n",
       "\t5 & 5 & 5 & nosection & 43.462295\\\\\n",
       "\t6 & 6 & 6 & section   & 86.500726\\\\\n",
       "\\end{tabular}\n"
      ],
      "text/markdown": [
       "\n",
       "A data.frame: 6 × 4\n",
       "\n",
       "| <!--/--> | X &lt;int&gt; | ID &lt;int&gt; | assignment &lt;chr&gt; | po_observed &lt;dbl&gt; |\n",
       "|---|---|---|---|---|\n",
       "| 1 | 1 | 1 | section   | 99.171337 |\n",
       "| 2 | 2 | 2 | section   | 86.768511 |\n",
       "| 3 | 3 | 3 | nosection |  6.657836 |\n",
       "| 4 | 4 | 4 | nosection | 24.788116 |\n",
       "| 5 | 5 | 5 | nosection | 43.462295 |\n",
       "| 6 | 6 | 6 | section   | 86.500726 |\n",
       "\n"
      ],
      "text/plain": [
       "  X ID assignment po_observed\n",
       "1 1 1  section    99.171337  \n",
       "2 2 2  section    86.768511  \n",
       "3 3 3  nosection   6.657836  \n",
       "4 4 4  nosection  24.788116  \n",
       "5 5 5  nosection  43.462295  \n",
       "6 6 6  section    86.500726  "
      ]
     },
     "metadata": {},
     "output_type": "display_data"
    }
   ],
   "source": [
    "section_experiment_draw1 <- section_experiment\n",
    "# We randomly assign people to the two groups here\n",
    "section_experiment_draw1$assignment <- sample(c(rep(\"section\", 150), rep(\"nosection\", 150)), replace = F)\n",
    "# Create a new variable representing what we would observe\n",
    "section_experiment_draw1$po_observed <- ifelse(section_experiment_draw1$assignment == \"section\", section_experiment_draw1$po_treatment,\n",
    "                                        section_experiment_draw1$po_control)\n",
    "\n",
    "# Get rid of the potential outcome variables that we can't actually observe\n",
    "section_experiment_draw1$po_treatment <- NULL\n",
    "section_experiment_draw1$po_control <- NULL\n",
    "\n",
    "# This is what we would actually observe in reality\n",
    "head(section_experiment_draw1)"
   ]
  },
  {
   "cell_type": "markdown",
   "metadata": {},
   "source": [
    "Let's take a look at our sample. The code plots the distribution and finds the mean and the standard deviation of the grades of the people in the sample. "
   ]
  },
  {
   "cell_type": "code",
   "execution_count": 3,
   "metadata": {
    "scrolled": false
   },
   "outputs": [
    {
     "data": {
      "text/html": [
       "58.6787300580028"
      ],
      "text/latex": [
       "58.6787300580028"
      ],
      "text/markdown": [
       "58.6787300580028"
      ],
      "text/plain": [
       "[1] 58.67873"
      ]
     },
     "metadata": {},
     "output_type": "display_data"
    },
    {
     "data": {
      "text/html": [
       "34.893696434264"
      ],
      "text/latex": [
       "34.893696434264"
      ],
      "text/markdown": [
       "34.893696434264"
      ],
      "text/plain": [
       "[1] 34.8937"
      ]
     },
     "metadata": {},
     "output_type": "display_data"
    },
    {
     "data": {
      "image/png": "[encoded data removed]",
      "text/plain": [
       "Plot with title “Our Sample”"
      ]
     },
     "metadata": {
      "image/png": {
       "height": 420,
       "width": 420
      }
     },
     "output_type": "display_data"
    }
   ],
   "source": [
    "#plot\n",
    "hist(section_experiment_draw1$po_observed, main = \"Our Sample\", xlab = \"Grades\")\n",
    "abline(v = mean(section_experiment_draw1$po_observed), col = \"red\", lwd = 3) #line showing mean\n",
    "\n",
    "mean(section_experiment_draw1$po_observed) #find mean\n",
    "sd(section_experiment_draw1$po_observed) #find sd"
   ]
  },
  {
   "cell_type": "markdown",
   "metadata": {},
   "source": [
    "**Questions:**\n",
    "\n",
    "1. Is this distribution normal?\n",
    "\n",
    "2. Is the distribution here a sampling distribution?"
   ]
  },
  {
   "cell_type": "markdown",
   "metadata": {},
   "source": [
    "Using the code below, we once again randomly sample 300 people with 150 to attend section and 150 to not attend section. However, rather than doing this once, we are now sampling 1000 times. Let's save the mean grade from each sample, and then plot the means from the 1000 draws."
   ]
  },
  {
   "cell_type": "code",
   "execution_count": 4,
   "metadata": {
    "scrolled": false
   },
   "outputs": [
    {
     "data": {
      "text/html": [
       "59.4354382745297"
      ],
      "text/latex": [
       "59.4354382745297"
      ],
      "text/markdown": [
       "59.4354382745297"
      ],
      "text/plain": [
       "[1] 59.43544"
      ]
     },
     "metadata": {},
     "output_type": "display_data"
    },
    {
     "data": {
      "image/png": "[encoded data removed]",
      "text/plain": [
       "Plot with title “Histogram of rep_draw”"
      ]
     },
     "metadata": {
      "image/png": {
       "height": 420,
       "width": 420
      }
     },
     "output_type": "display_data"
    }
   ],
   "source": [
    "# This code randomly selects samples of size 300\n",
    "# We are now saving the mean of each of the 1000 draws to a value in rep_draw.\n",
    "rep_draw <- as.numeric()\n",
    "for (i in 1:1000){\n",
    "    section_experiment_treat_subset <- section_experiment$po_treatment[sample(x=1:300, size = 150, replace = F)]\n",
    "    section_experiment_control_subset <- section_experiment$po_control[sample(x=1:300, size = 150, replace = F)]\n",
    "    section_experiment_subset <- c(section_experiment_treat_subset, section_experiment_control_subset)\n",
    "    rep_draw[i] <- mean(section_experiment_subset)\n",
    "}\n",
    "hist(rep_draw, xlab = \"Grades\")\n",
    "abline(v = mean(rep_draw), col = \"red\", lwd = 3)\n",
    "mean(rep_draw)"
   ]
  },
  {
   "cell_type": "markdown",
   "metadata": {},
   "source": [
    "**Questions:**\n",
    "\n",
    "1. Is the distribution normal?\n",
    "\n",
    "2. Is the distribution here a sampling distribution?\n",
    "\n",
    "Let's find the standard error. Recall that the standard error is the standard deviation of a sampling distribution."
   ]
  },
  {
   "cell_type": "code",
   "execution_count": 5,
   "metadata": {
    "scrolled": false
   },
   "outputs": [
    {
     "data": {
      "text/html": [
       "0.515387331583981"
      ],
      "text/latex": [
       "0.515387331583981"
      ],
      "text/markdown": [
       "0.515387331583981"
      ],
      "text/plain": [
       "[1] 0.5153873"
      ]
     },
     "metadata": {},
     "output_type": "display_data"
    }
   ],
   "source": [
    "# Find the SE of the distribution below\n",
    "sd(rep_draw)"
   ]
  },
  {
   "cell_type": "markdown",
   "metadata": {},
   "source": [
    "Let's return to our sample (`section_experiment_draw1`) and examine our treatment and control groups more carefully by separating them into subsets."
   ]
  },
  {
   "cell_type": "code",
   "execution_count": 6,
   "metadata": {
    "scrolled": false
   },
   "outputs": [
    {
     "name": "stdout",
     "output_type": "stream",
     "text": [
      "[1] \"No section group: sample mean and sd\"\n"
     ]
    },
    {
     "data": {
      "text/html": [
       "26.1155876199386"
      ],
      "text/latex": [
       "26.1155876199386"
      ],
      "text/markdown": [
       "26.1155876199386"
      ],
      "text/plain": [
       "[1] 26.11559"
      ]
     },
     "metadata": {},
     "output_type": "display_data"
    },
    {
     "data": {
      "text/html": [
       "15.6330554621767"
      ],
      "text/latex": [
       "15.6330554621767"
      ],
      "text/markdown": [
       "15.6330554621767"
      ],
      "text/plain": [
       "[1] 15.63306"
      ]
     },
     "metadata": {},
     "output_type": "display_data"
    },
    {
     "name": "stdout",
     "output_type": "stream",
     "text": [
      "[1] \"Section group: sample mean and sd\"\n"
     ]
    },
    {
     "data": {
      "text/html": [
       "91.241872496067"
      ],
      "text/latex": [
       "91.241872496067"
      ],
      "text/markdown": [
       "91.241872496067"
      ],
      "text/plain": [
       "[1] 91.24187"
      ]
     },
     "metadata": {},
     "output_type": "display_data"
    },
    {
     "data": {
      "text/html": [
       "7.99811241623477"
      ],
      "text/latex": [
       "7.99811241623477"
      ],
      "text/markdown": [
       "7.99811241623477"
      ],
      "text/plain": [
       "[1] 7.998112"
      ]
     },
     "metadata": {},
     "output_type": "display_data"
    }
   ],
   "source": [
    "# Let's make two subsets, one for treatment and one for control\n",
    "section_exp_section <- subset(section_experiment_draw1, assignment == \"section\")\n",
    "section_exp_nosection <- subset(section_experiment_draw1, assignment == \"nosection\")\n",
    "\n",
    "# For the control group\n",
    "print(\"No section group: sample mean and sd\") \n",
    "mean(section_exp_nosection$po_observed)\n",
    "sd(section_exp_nosection$po_observed)\n",
    "\n",
    "# For the treatment group\n",
    "print(\"Section group: sample mean and sd\")\n",
    "mean(section_exp_section$po_observed)\n",
    "sd(section_exp_section$po_observed)"
   ]
  },
  {
   "cell_type": "markdown",
   "metadata": {},
   "source": [
    "**Visualize the distributions for the two groups**"
   ]
  },
  {
   "cell_type": "code",
   "execution_count": 7,
   "metadata": {
    "scrolled": false
   },
   "outputs": [
    {
     "data": {
      "image/png": "[encoded data removed]",
      "text/plain": [
       "Plot with title “Control Group”"
      ]
     },
     "metadata": {
      "image/png": {
       "height": 420,
       "width": 420
      }
     },
     "output_type": "display_data"
    },
    {
     "data": {
      "image/png": "[encoded data removed]",
      "text/plain": [
       "Plot with title “Treatment Group”"
      ]
     },
     "metadata": {
      "image/png": {
       "height": 420,
       "width": 420
      }
     },
     "output_type": "display_data"
    }
   ],
   "source": [
    "#Control subset\n",
    "hist(section_exp_nosection$po_observed, main = \"Control Group\", xlab = \"Grades\")\n",
    "abline(v = mean(section_exp_nosection$po_observed), col = \"red\", lwd = 3)\n",
    "\n",
    "#Treatment subset\n",
    "hist(section_exp_section$po_observed, main = \"Treatment Group\", xlab = \"Grades\")\n",
    "abline(v = mean(section_exp_section$po_observed), col = \"red\", lwd = 3)"
   ]
  },
  {
   "cell_type": "markdown",
   "metadata": {},
   "source": [
    "Whoo, it seems like attending section makes people get higher grades! But, let's not jump to any conclusions yet."
   ]
  },
  {
   "cell_type": "markdown",
   "metadata": {},
   "source": [
    "### Treatment Effect\n",
    "The outcome of our experiment we are interested in is the difference in means between the *section* and *no section* groups. In our sample, the estimate (treatment effect) is: "
   ]
  },
  {
   "cell_type": "code",
   "execution_count": 8,
   "metadata": {
    "scrolled": true
   },
   "outputs": [
    {
     "data": {
      "text/html": [
       "65.1262848761284"
      ],
      "text/latex": [
       "65.1262848761284"
      ],
      "text/markdown": [
       "65.1262848761284"
      ],
      "text/plain": [
       "[1] 65.12628"
      ]
     },
     "metadata": {},
     "output_type": "display_data"
    }
   ],
   "source": [
    "# Find the treatment effect\n",
    "treatment_effect <- mean(section_exp_section$po_observed) - mean(section_exp_nosection$po_observed)\n",
    "treatment_effect"
   ]
  },
  {
   "cell_type": "markdown",
   "metadata": {},
   "source": [
    "Let's check to see if our treatment effect is statistically significant!\n",
    "\n",
    "### Statistical Significance\n",
    "\n",
    "Using the `difference_in_means()` function, find the t-statistic and p-value of the experiment in `section_experiment_draw1`. Assume we are at an 0.05 level of significance.  Provide an interpretation for the two estimates."
   ]
  },
  {
   "cell_type": "code",
   "execution_count": 9,
   "metadata": {},
   "outputs": [
    {
     "data": {
      "text/html": [
       "<table class=\"dataframe\">\n",
       "<caption>A data.frame: 6 × 4</caption>\n",
       "<thead>\n",
       "\t<tr><th></th><th scope=col>X</th><th scope=col>ID</th><th scope=col>assignment</th><th scope=col>po_observed</th></tr>\n",
       "\t<tr><th></th><th scope=col>&lt;int&gt;</th><th scope=col>&lt;int&gt;</th><th scope=col>&lt;chr&gt;</th><th scope=col>&lt;dbl&gt;</th></tr>\n",
       "</thead>\n",
       "<tbody>\n",
       "\t<tr><th scope=row>1</th><td>1</td><td>1</td><td>section  </td><td>99.171337</td></tr>\n",
       "\t<tr><th scope=row>2</th><td>2</td><td>2</td><td>section  </td><td>86.768511</td></tr>\n",
       "\t<tr><th scope=row>3</th><td>3</td><td>3</td><td>nosection</td><td> 6.657836</td></tr>\n",
       "\t<tr><th scope=row>4</th><td>4</td><td>4</td><td>nosection</td><td>24.788116</td></tr>\n",
       "\t<tr><th scope=row>5</th><td>5</td><td>5</td><td>nosection</td><td>43.462295</td></tr>\n",
       "\t<tr><th scope=row>6</th><td>6</td><td>6</td><td>section  </td><td>86.500726</td></tr>\n",
       "</tbody>\n",
       "</table>\n"
      ],
      "text/latex": [
       "A data.frame: 6 × 4\n",
       "\\begin{tabular}{r|llll}\n",
       "  & X & ID & assignment & po\\_observed\\\\\n",
       "  & <int> & <int> & <chr> & <dbl>\\\\\n",
       "\\hline\n",
       "\t1 & 1 & 1 & section   & 99.171337\\\\\n",
       "\t2 & 2 & 2 & section   & 86.768511\\\\\n",
       "\t3 & 3 & 3 & nosection &  6.657836\\\\\n",
       "\t4 & 4 & 4 & nosection & 24.788116\\\\\n",
       "\t5 & 5 & 5 & nosection & 43.462295\\\\\n",
       "\t6 & 6 & 6 & section   & 86.500726\\\\\n",
       "\\end{tabular}\n"
      ],
      "text/markdown": [
       "\n",
       "A data.frame: 6 × 4\n",
       "\n",
       "| <!--/--> | X &lt;int&gt; | ID &lt;int&gt; | assignment &lt;chr&gt; | po_observed &lt;dbl&gt; |\n",
       "|---|---|---|---|---|\n",
       "| 1 | 1 | 1 | section   | 99.171337 |\n",
       "| 2 | 2 | 2 | section   | 86.768511 |\n",
       "| 3 | 3 | 3 | nosection |  6.657836 |\n",
       "| 4 | 4 | 4 | nosection | 24.788116 |\n",
       "| 5 | 5 | 5 | nosection | 43.462295 |\n",
       "| 6 | 6 | 6 | section   | 86.500726 |\n",
       "\n"
      ],
      "text/plain": [
       "  X ID assignment po_observed\n",
       "1 1 1  section    99.171337  \n",
       "2 2 2  section    86.768511  \n",
       "3 3 3  nosection   6.657836  \n",
       "4 4 4  nosection  24.788116  \n",
       "5 5 5  nosection  43.462295  \n",
       "6 6 6  section    86.500726  "
      ]
     },
     "metadata": {},
     "output_type": "display_data"
    }
   ],
   "source": [
    "#Recall this is what the dataset for our experiment looks like\n",
    "head(section_experiment_draw1)"
   ]
  },
  {
   "cell_type": "code",
   "execution_count": 10,
   "metadata": {
    "scrolled": false
   },
   "outputs": [
    {
     "data": {
      "text/plain": [
       "Design:  Standard \n",
       "                  Estimate Std. Error  t value      Pr(>|t|) CI Lower CI Upper\n",
       "assignmentsection 65.12628   1.433788 45.42253 2.262938e-114 62.30071 67.95186\n",
       "                        DF\n",
       "assignmentsection 222.0001"
      ]
     },
     "metadata": {},
     "output_type": "display_data"
    }
   ],
   "source": [
    "# Type your code using the difference_in_means() function here\n",
    "library(estimatr)\n",
    "difference_in_means(po_observed ~ assignment, section_experiment_draw1, \n",
    "                    condition1 = \"nosection\", condition2 = \"section\")"
   ]
  },
  {
   "cell_type": "markdown",
   "metadata": {},
   "source": [
    "**Question:**  \n",
    "What does the output tell us?   \n",
    "\n",
    "*Type your interpretation here*\n",
    "\n",
    "*Bonus Question:* How should we interpret the confidence interval?\n"
   ]
  },
  {
   "cell_type": "markdown",
   "metadata": {},
   "source": [
    "**Visualizing our results**"
   ]
  },
  {
   "cell_type": "code",
   "execution_count": 11,
   "metadata": {
    "scrolled": false
   },
   "outputs": [
    {
     "data": {
      "image/png": "[encoded data removed]",
      "text/plain": [
       "Plot with title “Sampling Distributions”"
      ]
     },
     "metadata": {
      "image/png": {
       "height": 420,
       "width": 420
      }
     },
     "output_type": "display_data"
    }
   ],
   "source": [
    "#Run this Cell\n",
    "treatment_means <- as.numeric()\n",
    "control_means <- as.numeric()\n",
    "\n",
    "# We run this 1000 times\n",
    "for (i in 1:1000){\n",
    "    section_experiment_draw_1000 <- section_experiment\n",
    "    # We randomly assign people to the two groups here\n",
    "    section_experiment_draw_1000$assignment <- sample(c(rep(\"section\", 150), rep(\"nosection\", 150)), replace = F)\n",
    "    # Create a new variable representing what we would observe\n",
    "    section_experiment_draw_1000$po_observed <- ifelse(section_experiment_draw_1000$assignment == \"section\", section_experiment_draw_1000$po_treatment,\n",
    "                                        section_experiment_draw_1000$po_control)\n",
    "    # Get rid of the potential outcome variables that we can't actually observe\n",
    "    section_experiment_draw_1000$po_treatment <- NULL\n",
    "    section_experiment_draw_1000$po_control <- NULL\n",
    "    section_exp_section_tmp <- subset(section_experiment_draw_1000, assignment == \"section\")\n",
    "    section_exp_nosection_tmp <- subset(section_experiment_draw_1000, assignment == \"nosection\")\n",
    "    treatment_means[i] <- mean(section_exp_section_tmp$po_observed)\n",
    "    control_means[i] <- mean(section_exp_nosection_tmp$po_observed)\n",
    "\n",
    "}\n",
    "\n",
    "hist(control_means, xlim = c(25, 90), main = \"Sampling Distributions\", xlab = \"Grades\", col = \"red\")\n",
    "hist(treatment_means, col = \"blue\", add = T)\n",
    "legend(\"top\", inset=.02, c(\"control\",\"\n",
    "treatment\"), fill=c(\"red\", \"blue\"), horiz=TRUE, cex=0.8)"
   ]
  },
  {
   "cell_type": "code",
   "execution_count": null,
   "metadata": {},
   "outputs": [],
   "source": []
  }
 ],
 "metadata": {
  "kernelspec": {
   "display_name": "R",
   "language": "R",
   "name": "ir"
  },
  "language_info": {
   "codemirror_mode": "r",
   "file_extension": ".r",
   "mimetype": "text/x-r-source",
   "name": "R",
   "pygments_lexer": "r",
   "version": "4.2.1"
  }
 },
 "nbformat": 4,
 "nbformat_minor": 4
}
