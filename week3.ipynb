{
 "cells": [
  {
   "cell_type": "markdown",
   "metadata": {},
   "source": [
    "# Reviewing Tables in R\n",
    "## Political Science 3 Discussion Week 3 - Clara Hu\n",
    "\n",
    "Today, we will play around with data in R. We can work with data in tables."
   ]
  },
  {
   "cell_type": "markdown",
   "metadata": {},
   "source": [
    "### Coding in Style\n",
    "\n",
    "If you are interested in conventions that are often used in formatting R code (spacing, naming, etc.), and would like to make your code easier to read, check out the [tidyverse style guide](https://style.tidyverse.org/syntax.html). "
   ]
  },
  {
   "cell_type": "markdown",
   "metadata": {},
   "source": [
    "## Review of Extracting and Subsetting from Datasets\n",
    "\n",
    "Remember that we can extract specific columns in a table using the `$` operator. We can also use the `subset` function to extract specific observations with values that satisfy a specific condition."
   ]
  },
  {
   "cell_type": "code",
   "execution_count": 1,
   "metadata": {},
   "outputs": [
    {
     "data": {
      "text/html": [
       "<table class=\"dataframe\">\n",
       "<caption>A data.frame: 6 × 8</caption>\n",
       "<thead>\n",
       "\t<tr><th></th><th scope=col>Sepal.Length</th><th scope=col>Sepal.Width</th><th scope=col>Petal.Length</th><th scope=col>Petal.Width</th><th scope=col>Species</th><th scope=col>setosa</th><th scope=col>versicolor</th><th scope=col>virginica</th></tr>\n",
       "\t<tr><th></th><th scope=col>&lt;dbl&gt;</th><th scope=col>&lt;dbl&gt;</th><th scope=col>&lt;dbl&gt;</th><th scope=col>&lt;dbl&gt;</th><th scope=col>&lt;fct&gt;</th><th scope=col>&lt;dbl&gt;</th><th scope=col>&lt;dbl&gt;</th><th scope=col>&lt;dbl&gt;</th></tr>\n",
       "</thead>\n",
       "<tbody>\n",
       "\t<tr><th scope=row>1</th><td>5.1</td><td>3.5</td><td>1.4</td><td>0.2</td><td>setosa</td><td>1</td><td>0</td><td>0</td></tr>\n",
       "\t<tr><th scope=row>2</th><td>4.9</td><td>3.0</td><td>1.4</td><td>0.2</td><td>setosa</td><td>1</td><td>0</td><td>0</td></tr>\n",
       "\t<tr><th scope=row>3</th><td>4.7</td><td>3.2</td><td>1.3</td><td>0.2</td><td>setosa</td><td>1</td><td>0</td><td>0</td></tr>\n",
       "\t<tr><th scope=row>4</th><td>4.6</td><td>3.1</td><td>1.5</td><td>0.2</td><td>setosa</td><td>1</td><td>0</td><td>0</td></tr>\n",
       "\t<tr><th scope=row>5</th><td>5.0</td><td>3.6</td><td>1.4</td><td>0.2</td><td>setosa</td><td>1</td><td>0</td><td>0</td></tr>\n",
       "\t<tr><th scope=row>6</th><td>5.4</td><td>3.9</td><td>1.7</td><td>0.4</td><td>setosa</td><td>1</td><td>0</td><td>0</td></tr>\n",
       "</tbody>\n",
       "</table>\n"
      ],
      "text/latex": [
       "A data.frame: 6 × 8\n",
       "\\begin{tabular}{r|llllllll}\n",
       "  & Sepal.Length & Sepal.Width & Petal.Length & Petal.Width & Species & setosa & versicolor & virginica\\\\\n",
       "  & <dbl> & <dbl> & <dbl> & <dbl> & <fct> & <dbl> & <dbl> & <dbl>\\\\\n",
       "\\hline\n",
       "\t1 & 5.1 & 3.5 & 1.4 & 0.2 & setosa & 1 & 0 & 0\\\\\n",
       "\t2 & 4.9 & 3.0 & 1.4 & 0.2 & setosa & 1 & 0 & 0\\\\\n",
       "\t3 & 4.7 & 3.2 & 1.3 & 0.2 & setosa & 1 & 0 & 0\\\\\n",
       "\t4 & 4.6 & 3.1 & 1.5 & 0.2 & setosa & 1 & 0 & 0\\\\\n",
       "\t5 & 5.0 & 3.6 & 1.4 & 0.2 & setosa & 1 & 0 & 0\\\\\n",
       "\t6 & 5.4 & 3.9 & 1.7 & 0.4 & setosa & 1 & 0 & 0\\\\\n",
       "\\end{tabular}\n"
      ],
      "text/markdown": [
       "\n",
       "A data.frame: 6 × 8\n",
       "\n",
       "| <!--/--> | Sepal.Length &lt;dbl&gt; | Sepal.Width &lt;dbl&gt; | Petal.Length &lt;dbl&gt; | Petal.Width &lt;dbl&gt; | Species &lt;fct&gt; | setosa &lt;dbl&gt; | versicolor &lt;dbl&gt; | virginica &lt;dbl&gt; |\n",
       "|---|---|---|---|---|---|---|---|---|\n",
       "| 1 | 5.1 | 3.5 | 1.4 | 0.2 | setosa | 1 | 0 | 0 |\n",
       "| 2 | 4.9 | 3.0 | 1.4 | 0.2 | setosa | 1 | 0 | 0 |\n",
       "| 3 | 4.7 | 3.2 | 1.3 | 0.2 | setosa | 1 | 0 | 0 |\n",
       "| 4 | 4.6 | 3.1 | 1.5 | 0.2 | setosa | 1 | 0 | 0 |\n",
       "| 5 | 5.0 | 3.6 | 1.4 | 0.2 | setosa | 1 | 0 | 0 |\n",
       "| 6 | 5.4 | 3.9 | 1.7 | 0.4 | setosa | 1 | 0 | 0 |\n",
       "\n"
      ],
      "text/plain": [
       "  Sepal.Length Sepal.Width Petal.Length Petal.Width Species setosa versicolor\n",
       "1 5.1          3.5         1.4          0.2         setosa  1      0         \n",
       "2 4.9          3.0         1.4          0.2         setosa  1      0         \n",
       "3 4.7          3.2         1.3          0.2         setosa  1      0         \n",
       "4 4.6          3.1         1.5          0.2         setosa  1      0         \n",
       "5 5.0          3.6         1.4          0.2         setosa  1      0         \n",
       "6 5.4          3.9         1.7          0.4         setosa  1      0         \n",
       "  virginica\n",
       "1 0        \n",
       "2 0        \n",
       "3 0        \n",
       "4 0        \n",
       "5 0        \n",
       "6 0        "
      ]
     },
     "metadata": {},
     "output_type": "display_data"
    }
   ],
   "source": [
    "# We'll be looking at data about Iris flowers \n",
    "# Run this cell! Ignore what I'm doing below. \n",
    "\n",
    "iris$setosa <- ifelse(iris$Species == \"setosa\", 1, 0) # Making dummy variables\n",
    "iris$versicolor <- ifelse(iris$Species == \"versicolor\", 1, 0)\n",
    "iris$virginica <- ifelse(iris$Species == \"virginica\", 1, 0)\n",
    "\n",
    "head(iris)"
   ]
  },
  {
   "cell_type": "code",
   "execution_count": 3,
   "metadata": {},
   "outputs": [
    {
     "data": {
      "text/plain": [
       "\n",
       "0.1 0.2 0.3 0.4 0.5 0.6   1 1.1 1.2 1.3 1.4 1.5 1.6 1.7 1.8 1.9   2 2.1 2.2 2.3 \n",
       "  5  29   7   7   1   1   7   3   5  13   8  12   4   2  12   5   6   6   3   8 \n",
       "2.4 2.5 \n",
       "  3   3 "
      ]
     },
     "metadata": {},
     "output_type": "display_data"
    }
   ],
   "source": [
    "table(iris$Petal.Width)"
   ]
  },
  {
   "cell_type": "code",
   "execution_count": null,
   "metadata": {},
   "outputs": [],
   "source": [
    "# Remember we can get values in a column by using $\n",
    "head(iris$Sepal.Length) \n",
    "# I'm using the head function to only show the first few values\n",
    "# instead of all 150+"
   ]
  },
  {
   "cell_type": "code",
   "execution_count": null,
   "metadata": {},
   "outputs": [],
   "source": [
    "# Remember, we can also give things names and reference that name\n",
    "# For example -- what's the median petal length for all flowers in the dataset?\n",
    "all_petal_lengths <- iris$Petal.Length\n",
    "median(all_petal_lengths)"
   ]
  },
  {
   "cell_type": "markdown",
   "metadata": {},
   "source": [
    "## Quick Check\n",
    "\n",
    "Using the dummy variable columns, find the proportion of flowers in the dataset that are either the species `Iris setosa` or `Iris versicolor`. Save that value as the name `s_v_prop`."
   ]
  },
  {
   "cell_type": "code",
   "execution_count": null,
   "metadata": {},
   "outputs": [],
   "source": [
    "# Use as many lines as you need!\n",
    "\n",
    "s_v_prop <- ...\n",
    "s_v_prop # Tell R to print the value"
   ]
  },
  {
   "cell_type": "markdown",
   "metadata": {},
   "source": [
    "## Subsetting\n",
    "\n",
    "Let's focus on only the `Iris virginica` flowers in the dataset. We can do this by using the `subset` function, which takes the following arguments:\n",
    "\n",
    "`subset(table, column_logical)`\n",
    "\n",
    "A logical in R is the same thing as a Boolean in Python. In other words, it is a value (or set of values) that is either `TRUE` or `FALSE`. You can also think of them as 1 and 0.\n",
    "\n",
    "We can get these by doing something called a Boolean comparison, where we compare a value to another, and if that condition is True, it will return `TRUE`. Here are some common comparisons:\n",
    "\n",
    "| Logical Operator | R Code |\n",
    "| - | - |\n",
    "| does x equal y? | x == y |\n",
    "| does x NOT equal y? | x != y |\n",
    "| is x less than y? | x < y |\n",
    "| is x greater than y? | x > y |\n",
    "| is x less than or equal to y? | x <= y |\n",
    "| is x greater than or equal to y? | x >= y |\n"
   ]
  },
  {
   "cell_type": "code",
   "execution_count": null,
   "metadata": {},
   "outputs": [],
   "source": [
    "# Logical example in R\n",
    "x <- 5\n",
    "y <- 10\n",
    "\n",
    "x == y\n",
    "x < y"
   ]
  },
  {
   "cell_type": "code",
   "execution_count": null,
   "metadata": {},
   "outputs": [],
   "source": [
    "# Let's practice using this to subset:\n",
    "# subset(table, column_name <comparison> <value>)\n",
    "virginica <- subset(iris, virginica == 1)\n",
    "head(virginica)"
   ]
  },
  {
   "cell_type": "code",
   "execution_count": null,
   "metadata": {},
   "outputs": [],
   "source": [
    "# Not a quick check, but good practice:\n",
    "# How can we get the virginica flowers using a different column?\n",
    "subset(..., ...)"
   ]
  },
  {
   "cell_type": "markdown",
   "metadata": {},
   "source": [
    "## Subset of a subset\n",
    "\n",
    "Using the `subset` function and some other R code, create a table that only has rows of Iris setosa flowers that have a sepal length smaller than the mean sepal length of ALL virginica flowers. Call this new table `small_setosas`.\n",
    "\n",
    "*Hint:* You should use the `virginica` table to help find the mean sepal length of Iris virginica flowers."
   ]
  },
  {
   "cell_type": "code",
   "execution_count": null,
   "metadata": {},
   "outputs": [],
   "source": [
    "avg_virginica_sepal_length <- ...\n",
    "setosa <- ...\n",
    "small_setosas <- ...\n",
    "\n",
    "head(small_setosas)"
   ]
  },
  {
   "cell_type": "markdown",
   "metadata": {},
   "source": [
    "## One-way and Two-way Tables\n",
    "\n",
    "We can use the `table` function to create one and two way tables. One and two way tables are used to summarize the counts of each category in a table. To use the `table` function, just plug in the column that we want to check.\n",
    "\n",
    "| One way | Two way |\n",
    "| - | - | \n",
    "| table(data\\$var1) | table(data\\\\$var1, data\\$var2) |"
   ]
  },
  {
   "cell_type": "code",
   "execution_count": null,
   "metadata": {},
   "outputs": [],
   "source": [
    "# Creating a one-way table\n",
    "# Let's see how many flowers are in each category!\n",
    "table(iris$Species)"
   ]
  },
  {
   "cell_type": "code",
   "execution_count": null,
   "metadata": {},
   "outputs": [],
   "source": [
    "# Creating a two-way table\n",
    "#"
   ]
  },
  {
   "cell_type": "code",
   "execution_count": null,
   "metadata": {},
   "outputs": [],
   "source": []
  }
 ],
 "metadata": {
  "kernelspec": {
   "display_name": "R",
   "language": "R",
   "name": "ir"
  },
  "language_info": {
   "codemirror_mode": "r",
   "file_extension": ".r",
   "mimetype": "text/x-r-source",
   "name": "R",
   "pygments_lexer": "r",
   "version": "4.2.1"
  }
 },
 "nbformat": 4,
 "nbformat_minor": 4
}
